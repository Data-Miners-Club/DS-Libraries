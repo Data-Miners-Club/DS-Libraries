{
  "nbformat": 4,
  "nbformat_minor": 0,
  "metadata": {
    "colab": {
      "name": "Common Plots.ipynb",
      "provenance": [],
      "authorship_tag": "ABX9TyO9i/C0pScM681QHPlM4rCQ"
    },
    "kernelspec": {
      "name": "python3",
      "display_name": "Python 3"
    }
  },
  "cells": [
    {
      "cell_type": "markdown",
      "metadata": {
        "id": "FNWCQrmtxv-Z"
      },
      "source": [
        "# Common Plots\n"
      ]
    },
    {
      "cell_type": "markdown",
      "metadata": {
        "id": "kYVH1MSeybGc"
      },
      "source": [
        "## Bar Graph"
      ]
    },
    {
      "cell_type": "markdown",
      "metadata": {
        "id": "kxltdlCJyeT1"
      },
      "source": [
        "## Histograms"
      ]
    },
    {
      "cell_type": "markdown",
      "metadata": {
        "id": "f5V_e0SsyjGR"
      },
      "source": [
        "## Scatter Plots"
      ]
    },
    {
      "cell_type": "markdown",
      "metadata": {
        "id": "M2br-4kByk9U"
      },
      "source": [
        "## Correlation Plots (Heat maps)"
      ]
    },
    {
      "cell_type": "markdown",
      "metadata": {
        "id": "RqTnuO5hymNL"
      },
      "source": [
        "## Pair Plots"
      ]
    },
    {
      "cell_type": "markdown",
      "metadata": {
        "id": "qaMyfSmEys6P"
      },
      "source": [
        "## Box Plots"
      ]
    },
    {
      "cell_type": "markdown",
      "metadata": {
        "id": "bQnhA3Nry2xN"
      },
      "source": [
        "## Violin Plots"
      ]
    },
    {
      "cell_type": "markdown",
      "metadata": {
        "id": "2xiasys00Y2M"
      },
      "source": [
        "## Area Plots"
      ]
    },
    {
      "cell_type": "markdown",
      "metadata": {
        "id": "6R_8s8Kay6J5"
      },
      "source": [
        "## Pie Plots"
      ]
    },
    {
      "cell_type": "markdown",
      "metadata": {
        "id": "445FOnXyy8b4"
      },
      "source": [
        "## Geospatial Plots"
      ]
    }
  ]
}