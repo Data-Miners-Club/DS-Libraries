{
  "nbformat": 4,
  "nbformat_minor": 0,
  "metadata": {
    "colab": {
      "name": "Pandas.ipynb",
      "provenance": [],
      "toc_visible": true
    },
    "kernelspec": {
      "name": "python3",
      "display_name": "Python 3"
    }
  },
  "cells": [
    {
      "cell_type": "markdown",
      "metadata": {
        "id": "UKRNjU4p9SVE"
      },
      "source": [
        "# Pandas\n",
        "Reference: https://www.tutorialspoint.com/python_pandas/index.htm\n",
        "\n",
        "**Use: Reading data from files into DataFrame objects, manipulating and reordering data.**\n",
        "\n",
        "1. Fast and efficient *`DataFrame object`* with default and customized indexing.\n",
        "2. Tools for *`loading data`* into in-memory data objects from different file formats.\n",
        "3. Data alignment and integrated handling of *`missing data`*.\n",
        "4. *`Reshaping`* and pivoting of date sets.\n",
        "5. Label-based slicing, indexing and *`subsetting`* of large data sets.\n",
        "6. *`Deleting or inserting`* columns.\n",
        "7. *`Group by data`* for aggregation and transformations.\n",
        "8. High performance *`merging and joining`* of data.\n",
        "\n"
      ]
    },
    {
      "cell_type": "code",
      "metadata": {
        "id": "pMs_GZXiB8WF"
      },
      "source": [
        "import pandas as pd"
      ],
      "execution_count": null,
      "outputs": []
    },
    {
      "cell_type": "markdown",
      "metadata": {
        "id": "Eq62tEJrAD0J"
      },
      "source": [
        "## DataFrames\n",
        "Reference: https://www.tutorialspoint.com/python_pandas/python_pandas_dataframe.htm\n"
      ]
    },
    {
      "cell_type": "markdown",
      "metadata": {
        "id": "ZhakQSMeFy1h"
      },
      "source": [
        "\n",
        "General 2D labeled, size-mutable (can be changed) tabular structure with potentially heterogeneously (different types) typed columns.\n",
        "\n",
        "For example,\n",
        "\n",
        "| Name | Age | Gender |  Rating |\n",
        "| -----| ----| ------ | -------|\n",
        "| Steve |\t32 |\tMale| 2.4 |\n",
        "| Lia\t| 28 |\tFemale| 3.6 |\n",
        "| Vin\t| 45|\tMale| 4.2 |\n",
        "| Katie\t|38|\tFemale| 4.0 |\n",
        "\n",
        "The table represents the data of a sales team of an organization with their overall performance rating. The data is represented in rows and columns. Each column represents an attribute and each row represents a person."
      ]
    },
    {
      "cell_type": "code",
      "metadata": {
        "id": "5jEnOJjuAS6n",
        "outputId": "24ff43b1-6b85-47d6-bb7a-9c25f45c7a1c",
        "colab": {
          "base_uri": "https://localhost:8080/",
          "height": 32
        }
      },
      "source": [
        "df = pd.DataFrame()\n",
        "df"
      ],
      "execution_count": null,
      "outputs": [
        {
          "output_type": "execute_result",
          "data": {
            "text/html": [
              "<div>\n",
              "<style scoped>\n",
              "    .dataframe tbody tr th:only-of-type {\n",
              "        vertical-align: middle;\n",
              "    }\n",
              "\n",
              "    .dataframe tbody tr th {\n",
              "        vertical-align: top;\n",
              "    }\n",
              "\n",
              "    .dataframe thead th {\n",
              "        text-align: right;\n",
              "    }\n",
              "</style>\n",
              "<table border=\"1\" class=\"dataframe\">\n",
              "  <thead>\n",
              "    <tr style=\"text-align: right;\">\n",
              "      <th></th>\n",
              "    </tr>\n",
              "  </thead>\n",
              "  <tbody>\n",
              "  </tbody>\n",
              "</table>\n",
              "</div>"
            ],
            "text/plain": [
              "Empty DataFrame\n",
              "Columns: []\n",
              "Index: []"
            ]
          },
          "metadata": {
            "tags": []
          },
          "execution_count": 46
        }
      ]
    },
    {
      "cell_type": "code",
      "metadata": {
        "id": "nPYwlHe2CTb2",
        "outputId": "1e8a8b50-2874-45a1-8f79-dbce6b7d3bed",
        "colab": {
          "base_uri": "https://localhost:8080/",
          "height": 142
        }
      },
      "source": [
        "data = [['Alex',10],['Bob',12],['Clarke',13]]\n",
        "df = pd.DataFrame(data,columns=['Name','Age'])\n",
        "df"
      ],
      "execution_count": null,
      "outputs": [
        {
          "output_type": "execute_result",
          "data": {
            "text/html": [
              "<div>\n",
              "<style scoped>\n",
              "    .dataframe tbody tr th:only-of-type {\n",
              "        vertical-align: middle;\n",
              "    }\n",
              "\n",
              "    .dataframe tbody tr th {\n",
              "        vertical-align: top;\n",
              "    }\n",
              "\n",
              "    .dataframe thead th {\n",
              "        text-align: right;\n",
              "    }\n",
              "</style>\n",
              "<table border=\"1\" class=\"dataframe\">\n",
              "  <thead>\n",
              "    <tr style=\"text-align: right;\">\n",
              "      <th></th>\n",
              "      <th>Name</th>\n",
              "      <th>Age</th>\n",
              "    </tr>\n",
              "  </thead>\n",
              "  <tbody>\n",
              "    <tr>\n",
              "      <th>0</th>\n",
              "      <td>Alex</td>\n",
              "      <td>10</td>\n",
              "    </tr>\n",
              "    <tr>\n",
              "      <th>1</th>\n",
              "      <td>Bob</td>\n",
              "      <td>12</td>\n",
              "    </tr>\n",
              "    <tr>\n",
              "      <th>2</th>\n",
              "      <td>Clarke</td>\n",
              "      <td>13</td>\n",
              "    </tr>\n",
              "  </tbody>\n",
              "</table>\n",
              "</div>"
            ],
            "text/plain": [
              "     Name  Age\n",
              "0    Alex   10\n",
              "1     Bob   12\n",
              "2  Clarke   13"
            ]
          },
          "metadata": {
            "tags": []
          },
          "execution_count": 47
        }
      ]
    },
    {
      "cell_type": "code",
      "metadata": {
        "id": "0lQA_ORxCrEg",
        "outputId": "53651268-5641-4c87-cf76-95a6aa812cf9",
        "colab": {
          "base_uri": "https://localhost:8080/",
          "height": 173
        }
      },
      "source": [
        "data = {'Name':['Tom', 'Jack', 'Steve', 'Ricky'],'Age':[28,34,29,42]} #dictionary, similar to maps/hashtables in c++\n",
        "df = pd.DataFrame(data, index=['rank1','rank2','rank3','rank4'])\n",
        "df"
      ],
      "execution_count": null,
      "outputs": [
        {
          "output_type": "execute_result",
          "data": {
            "text/html": [
              "<div>\n",
              "<style scoped>\n",
              "    .dataframe tbody tr th:only-of-type {\n",
              "        vertical-align: middle;\n",
              "    }\n",
              "\n",
              "    .dataframe tbody tr th {\n",
              "        vertical-align: top;\n",
              "    }\n",
              "\n",
              "    .dataframe thead th {\n",
              "        text-align: right;\n",
              "    }\n",
              "</style>\n",
              "<table border=\"1\" class=\"dataframe\">\n",
              "  <thead>\n",
              "    <tr style=\"text-align: right;\">\n",
              "      <th></th>\n",
              "      <th>Name</th>\n",
              "      <th>Age</th>\n",
              "    </tr>\n",
              "  </thead>\n",
              "  <tbody>\n",
              "    <tr>\n",
              "      <th>rank1</th>\n",
              "      <td>Tom</td>\n",
              "      <td>28</td>\n",
              "    </tr>\n",
              "    <tr>\n",
              "      <th>rank2</th>\n",
              "      <td>Jack</td>\n",
              "      <td>34</td>\n",
              "    </tr>\n",
              "    <tr>\n",
              "      <th>rank3</th>\n",
              "      <td>Steve</td>\n",
              "      <td>29</td>\n",
              "    </tr>\n",
              "    <tr>\n",
              "      <th>rank4</th>\n",
              "      <td>Ricky</td>\n",
              "      <td>42</td>\n",
              "    </tr>\n",
              "  </tbody>\n",
              "</table>\n",
              "</div>"
            ],
            "text/plain": [
              "        Name  Age\n",
              "rank1    Tom   28\n",
              "rank2   Jack   34\n",
              "rank3  Steve   29\n",
              "rank4  Ricky   42"
            ]
          },
          "metadata": {
            "tags": []
          },
          "execution_count": 49
        }
      ]
    },
    {
      "cell_type": "code",
      "metadata": {
        "id": "hJWXntxmQ9sV",
        "outputId": "31139a57-9b18-4018-bf2e-401148d0c7b2",
        "colab": {
          "base_uri": "https://localhost:8080/",
          "height": 102
        }
      },
      "source": [
        "df['Age']"
      ],
      "execution_count": null,
      "outputs": [
        {
          "output_type": "execute_result",
          "data": {
            "text/plain": [
              "rank1    28\n",
              "rank2    34\n",
              "rank3    29\n",
              "rank4    42\n",
              "Name: Age, dtype: int64"
            ]
          },
          "metadata": {
            "tags": []
          },
          "execution_count": 50
        }
      ]
    },
    {
      "cell_type": "markdown",
      "metadata": {
        "id": "MHpJb23aFQj5"
      },
      "source": [
        "# Reading data\n",
        "Reference: https://www.learndatasci.com/tutorials/python-pandas-tutorial-complete-introduction-for-beginners/\n",
        "\n"
      ]
    },
    {
      "cell_type": "code",
      "metadata": {
        "id": "-QefsxXYIpN4",
        "outputId": "03f8f884-7239-44ff-d10a-4bcaf9419bf5",
        "colab": {
          "base_uri": "https://localhost:8080/",
          "height": 419
        }
      },
      "source": [
        "covid = pd.read_csv('https://raw.githubusercontent.com/nytimes/covid-19-data/master/us-states.csv')\n",
        "covid"
      ],
      "execution_count": null,
      "outputs": [
        {
          "output_type": "execute_result",
          "data": {
            "text/html": [
              "<div>\n",
              "<style scoped>\n",
              "    .dataframe tbody tr th:only-of-type {\n",
              "        vertical-align: middle;\n",
              "    }\n",
              "\n",
              "    .dataframe tbody tr th {\n",
              "        vertical-align: top;\n",
              "    }\n",
              "\n",
              "    .dataframe thead th {\n",
              "        text-align: right;\n",
              "    }\n",
              "</style>\n",
              "<table border=\"1\" class=\"dataframe\">\n",
              "  <thead>\n",
              "    <tr style=\"text-align: right;\">\n",
              "      <th></th>\n",
              "      <th>date</th>\n",
              "      <th>state</th>\n",
              "      <th>fips</th>\n",
              "      <th>cases</th>\n",
              "      <th>deaths</th>\n",
              "    </tr>\n",
              "  </thead>\n",
              "  <tbody>\n",
              "    <tr>\n",
              "      <th>0</th>\n",
              "      <td>2020-01-21</td>\n",
              "      <td>Washington</td>\n",
              "      <td>53</td>\n",
              "      <td>1</td>\n",
              "      <td>0</td>\n",
              "    </tr>\n",
              "    <tr>\n",
              "      <th>1</th>\n",
              "      <td>2020-01-22</td>\n",
              "      <td>Washington</td>\n",
              "      <td>53</td>\n",
              "      <td>1</td>\n",
              "      <td>0</td>\n",
              "    </tr>\n",
              "    <tr>\n",
              "      <th>2</th>\n",
              "      <td>2020-01-23</td>\n",
              "      <td>Washington</td>\n",
              "      <td>53</td>\n",
              "      <td>1</td>\n",
              "      <td>0</td>\n",
              "    </tr>\n",
              "    <tr>\n",
              "      <th>3</th>\n",
              "      <td>2020-01-24</td>\n",
              "      <td>Illinois</td>\n",
              "      <td>17</td>\n",
              "      <td>1</td>\n",
              "      <td>0</td>\n",
              "    </tr>\n",
              "    <tr>\n",
              "      <th>4</th>\n",
              "      <td>2020-01-24</td>\n",
              "      <td>Washington</td>\n",
              "      <td>53</td>\n",
              "      <td>1</td>\n",
              "      <td>0</td>\n",
              "    </tr>\n",
              "    <tr>\n",
              "      <th>...</th>\n",
              "      <td>...</td>\n",
              "      <td>...</td>\n",
              "      <td>...</td>\n",
              "      <td>...</td>\n",
              "      <td>...</td>\n",
              "    </tr>\n",
              "    <tr>\n",
              "      <th>11174</th>\n",
              "      <td>2020-09-21</td>\n",
              "      <td>Virginia</td>\n",
              "      <td>51</td>\n",
              "      <td>141138</td>\n",
              "      <td>3021</td>\n",
              "    </tr>\n",
              "    <tr>\n",
              "      <th>11175</th>\n",
              "      <td>2020-09-21</td>\n",
              "      <td>Washington</td>\n",
              "      <td>53</td>\n",
              "      <td>86803</td>\n",
              "      <td>2137</td>\n",
              "    </tr>\n",
              "    <tr>\n",
              "      <th>11176</th>\n",
              "      <td>2020-09-21</td>\n",
              "      <td>West Virginia</td>\n",
              "      <td>54</td>\n",
              "      <td>14171</td>\n",
              "      <td>312</td>\n",
              "    </tr>\n",
              "    <tr>\n",
              "      <th>11177</th>\n",
              "      <td>2020-09-21</td>\n",
              "      <td>Wisconsin</td>\n",
              "      <td>55</td>\n",
              "      <td>108656</td>\n",
              "      <td>1253</td>\n",
              "    </tr>\n",
              "    <tr>\n",
              "      <th>11178</th>\n",
              "      <td>2020-09-21</td>\n",
              "      <td>Wyoming</td>\n",
              "      <td>56</td>\n",
              "      <td>4944</td>\n",
              "      <td>49</td>\n",
              "    </tr>\n",
              "  </tbody>\n",
              "</table>\n",
              "<p>11179 rows × 5 columns</p>\n",
              "</div>"
            ],
            "text/plain": [
              "             date          state  fips   cases  deaths\n",
              "0      2020-01-21     Washington    53       1       0\n",
              "1      2020-01-22     Washington    53       1       0\n",
              "2      2020-01-23     Washington    53       1       0\n",
              "3      2020-01-24       Illinois    17       1       0\n",
              "4      2020-01-24     Washington    53       1       0\n",
              "...           ...            ...   ...     ...     ...\n",
              "11174  2020-09-21       Virginia    51  141138    3021\n",
              "11175  2020-09-21     Washington    53   86803    2137\n",
              "11176  2020-09-21  West Virginia    54   14171     312\n",
              "11177  2020-09-21      Wisconsin    55  108656    1253\n",
              "11178  2020-09-21        Wyoming    56    4944      49\n",
              "\n",
              "[11179 rows x 5 columns]"
            ]
          },
          "metadata": {
            "tags": []
          },
          "execution_count": 6
        }
      ]
    },
    {
      "cell_type": "code",
      "metadata": {
        "id": "RtFQDmfjJHdm",
        "outputId": "f9d4fb89-88be-42ed-d77a-2734ff03f0d1",
        "colab": {
          "base_uri": "https://localhost:8080/",
          "height": 204
        }
      },
      "source": [
        "covid.head()"
      ],
      "execution_count": null,
      "outputs": [
        {
          "output_type": "execute_result",
          "data": {
            "text/html": [
              "<div>\n",
              "<style scoped>\n",
              "    .dataframe tbody tr th:only-of-type {\n",
              "        vertical-align: middle;\n",
              "    }\n",
              "\n",
              "    .dataframe tbody tr th {\n",
              "        vertical-align: top;\n",
              "    }\n",
              "\n",
              "    .dataframe thead th {\n",
              "        text-align: right;\n",
              "    }\n",
              "</style>\n",
              "<table border=\"1\" class=\"dataframe\">\n",
              "  <thead>\n",
              "    <tr style=\"text-align: right;\">\n",
              "      <th></th>\n",
              "      <th>date</th>\n",
              "      <th>state</th>\n",
              "      <th>fips</th>\n",
              "      <th>cases</th>\n",
              "      <th>deaths</th>\n",
              "    </tr>\n",
              "  </thead>\n",
              "  <tbody>\n",
              "    <tr>\n",
              "      <th>0</th>\n",
              "      <td>2020-01-21</td>\n",
              "      <td>Washington</td>\n",
              "      <td>53</td>\n",
              "      <td>1</td>\n",
              "      <td>0</td>\n",
              "    </tr>\n",
              "    <tr>\n",
              "      <th>1</th>\n",
              "      <td>2020-01-22</td>\n",
              "      <td>Washington</td>\n",
              "      <td>53</td>\n",
              "      <td>1</td>\n",
              "      <td>0</td>\n",
              "    </tr>\n",
              "    <tr>\n",
              "      <th>2</th>\n",
              "      <td>2020-01-23</td>\n",
              "      <td>Washington</td>\n",
              "      <td>53</td>\n",
              "      <td>1</td>\n",
              "      <td>0</td>\n",
              "    </tr>\n",
              "    <tr>\n",
              "      <th>3</th>\n",
              "      <td>2020-01-24</td>\n",
              "      <td>Illinois</td>\n",
              "      <td>17</td>\n",
              "      <td>1</td>\n",
              "      <td>0</td>\n",
              "    </tr>\n",
              "    <tr>\n",
              "      <th>4</th>\n",
              "      <td>2020-01-24</td>\n",
              "      <td>Washington</td>\n",
              "      <td>53</td>\n",
              "      <td>1</td>\n",
              "      <td>0</td>\n",
              "    </tr>\n",
              "  </tbody>\n",
              "</table>\n",
              "</div>"
            ],
            "text/plain": [
              "         date       state  fips  cases  deaths\n",
              "0  2020-01-21  Washington    53      1       0\n",
              "1  2020-01-22  Washington    53      1       0\n",
              "2  2020-01-23  Washington    53      1       0\n",
              "3  2020-01-24    Illinois    17      1       0\n",
              "4  2020-01-24  Washington    53      1       0"
            ]
          },
          "metadata": {
            "tags": []
          },
          "execution_count": 42
        }
      ]
    },
    {
      "cell_type": "code",
      "metadata": {
        "id": "H1LYDe1RJTvz",
        "outputId": "6c689afb-0b6d-4ace-b516-efd9cce2de92",
        "colab": {
          "base_uri": "https://localhost:8080/",
          "height": 221
        }
      },
      "source": [
        "covid.info()"
      ],
      "execution_count": null,
      "outputs": [
        {
          "output_type": "stream",
          "text": [
            "<class 'pandas.core.frame.DataFrame'>\n",
            "RangeIndex: 11179 entries, 0 to 11178\n",
            "Data columns (total 5 columns):\n",
            " #   Column  Non-Null Count  Dtype \n",
            "---  ------  --------------  ----- \n",
            " 0   date    11179 non-null  object\n",
            " 1   state   11179 non-null  object\n",
            " 2   fips    11179 non-null  int64 \n",
            " 3   cases   11179 non-null  int64 \n",
            " 4   deaths  11179 non-null  int64 \n",
            "dtypes: int64(3), object(2)\n",
            "memory usage: 436.8+ KB\n"
          ],
          "name": "stdout"
        }
      ]
    },
    {
      "cell_type": "code",
      "metadata": {
        "id": "Z9DGEdxMJfSz",
        "outputId": "44e9a01d-a3bf-48c2-fa34-263bce05a5bf",
        "colab": {
          "base_uri": "https://localhost:8080/",
          "height": 450
        }
      },
      "source": [
        "covid.set_index('date')"
      ],
      "execution_count": null,
      "outputs": [
        {
          "output_type": "execute_result",
          "data": {
            "text/html": [
              "<div>\n",
              "<style scoped>\n",
              "    .dataframe tbody tr th:only-of-type {\n",
              "        vertical-align: middle;\n",
              "    }\n",
              "\n",
              "    .dataframe tbody tr th {\n",
              "        vertical-align: top;\n",
              "    }\n",
              "\n",
              "    .dataframe thead th {\n",
              "        text-align: right;\n",
              "    }\n",
              "</style>\n",
              "<table border=\"1\" class=\"dataframe\">\n",
              "  <thead>\n",
              "    <tr style=\"text-align: right;\">\n",
              "      <th></th>\n",
              "      <th>state</th>\n",
              "      <th>fips</th>\n",
              "      <th>cases</th>\n",
              "      <th>deaths</th>\n",
              "    </tr>\n",
              "    <tr>\n",
              "      <th>date</th>\n",
              "      <th></th>\n",
              "      <th></th>\n",
              "      <th></th>\n",
              "      <th></th>\n",
              "    </tr>\n",
              "  </thead>\n",
              "  <tbody>\n",
              "    <tr>\n",
              "      <th>2020-01-21</th>\n",
              "      <td>Washington</td>\n",
              "      <td>53</td>\n",
              "      <td>1</td>\n",
              "      <td>0</td>\n",
              "    </tr>\n",
              "    <tr>\n",
              "      <th>2020-01-22</th>\n",
              "      <td>Washington</td>\n",
              "      <td>53</td>\n",
              "      <td>1</td>\n",
              "      <td>0</td>\n",
              "    </tr>\n",
              "    <tr>\n",
              "      <th>2020-01-23</th>\n",
              "      <td>Washington</td>\n",
              "      <td>53</td>\n",
              "      <td>1</td>\n",
              "      <td>0</td>\n",
              "    </tr>\n",
              "    <tr>\n",
              "      <th>2020-01-24</th>\n",
              "      <td>Illinois</td>\n",
              "      <td>17</td>\n",
              "      <td>1</td>\n",
              "      <td>0</td>\n",
              "    </tr>\n",
              "    <tr>\n",
              "      <th>2020-01-24</th>\n",
              "      <td>Washington</td>\n",
              "      <td>53</td>\n",
              "      <td>1</td>\n",
              "      <td>0</td>\n",
              "    </tr>\n",
              "    <tr>\n",
              "      <th>...</th>\n",
              "      <td>...</td>\n",
              "      <td>...</td>\n",
              "      <td>...</td>\n",
              "      <td>...</td>\n",
              "    </tr>\n",
              "    <tr>\n",
              "      <th>2020-09-21</th>\n",
              "      <td>Virginia</td>\n",
              "      <td>51</td>\n",
              "      <td>141138</td>\n",
              "      <td>3021</td>\n",
              "    </tr>\n",
              "    <tr>\n",
              "      <th>2020-09-21</th>\n",
              "      <td>Washington</td>\n",
              "      <td>53</td>\n",
              "      <td>86803</td>\n",
              "      <td>2137</td>\n",
              "    </tr>\n",
              "    <tr>\n",
              "      <th>2020-09-21</th>\n",
              "      <td>West Virginia</td>\n",
              "      <td>54</td>\n",
              "      <td>14171</td>\n",
              "      <td>312</td>\n",
              "    </tr>\n",
              "    <tr>\n",
              "      <th>2020-09-21</th>\n",
              "      <td>Wisconsin</td>\n",
              "      <td>55</td>\n",
              "      <td>108656</td>\n",
              "      <td>1253</td>\n",
              "    </tr>\n",
              "    <tr>\n",
              "      <th>2020-09-21</th>\n",
              "      <td>Wyoming</td>\n",
              "      <td>56</td>\n",
              "      <td>4944</td>\n",
              "      <td>49</td>\n",
              "    </tr>\n",
              "  </tbody>\n",
              "</table>\n",
              "<p>11179 rows × 4 columns</p>\n",
              "</div>"
            ],
            "text/plain": [
              "                    state  fips   cases  deaths\n",
              "date                                           \n",
              "2020-01-21     Washington    53       1       0\n",
              "2020-01-22     Washington    53       1       0\n",
              "2020-01-23     Washington    53       1       0\n",
              "2020-01-24       Illinois    17       1       0\n",
              "2020-01-24     Washington    53       1       0\n",
              "...                   ...   ...     ...     ...\n",
              "2020-09-21       Virginia    51  141138    3021\n",
              "2020-09-21     Washington    53   86803    2137\n",
              "2020-09-21  West Virginia    54   14171     312\n",
              "2020-09-21      Wisconsin    55  108656    1253\n",
              "2020-09-21        Wyoming    56    4944      49\n",
              "\n",
              "[11179 rows x 4 columns]"
            ]
          },
          "metadata": {
            "tags": []
          },
          "execution_count": 44
        }
      ]
    },
    {
      "cell_type": "code",
      "metadata": {
        "id": "-5QyphKMJu2y",
        "outputId": "f69757c8-c4a9-4b08-ab35-8cb01d5dda26",
        "colab": {
          "base_uri": "https://localhost:8080/",
          "height": 297
        }
      },
      "source": [
        "covid.tail(8)"
      ],
      "execution_count": null,
      "outputs": [
        {
          "output_type": "execute_result",
          "data": {
            "text/html": [
              "<div>\n",
              "<style scoped>\n",
              "    .dataframe tbody tr th:only-of-type {\n",
              "        vertical-align: middle;\n",
              "    }\n",
              "\n",
              "    .dataframe tbody tr th {\n",
              "        vertical-align: top;\n",
              "    }\n",
              "\n",
              "    .dataframe thead th {\n",
              "        text-align: right;\n",
              "    }\n",
              "</style>\n",
              "<table border=\"1\" class=\"dataframe\">\n",
              "  <thead>\n",
              "    <tr style=\"text-align: right;\">\n",
              "      <th></th>\n",
              "      <th>date</th>\n",
              "      <th>state</th>\n",
              "      <th>fips</th>\n",
              "      <th>cases</th>\n",
              "      <th>deaths</th>\n",
              "    </tr>\n",
              "  </thead>\n",
              "  <tbody>\n",
              "    <tr>\n",
              "      <th>11171</th>\n",
              "      <td>2020-09-21</td>\n",
              "      <td>Utah</td>\n",
              "      <td>49</td>\n",
              "      <td>64404</td>\n",
              "      <td>441</td>\n",
              "    </tr>\n",
              "    <tr>\n",
              "      <th>11172</th>\n",
              "      <td>2020-09-21</td>\n",
              "      <td>Vermont</td>\n",
              "      <td>50</td>\n",
              "      <td>1719</td>\n",
              "      <td>58</td>\n",
              "    </tr>\n",
              "    <tr>\n",
              "      <th>11173</th>\n",
              "      <td>2020-09-21</td>\n",
              "      <td>Virgin Islands</td>\n",
              "      <td>78</td>\n",
              "      <td>1269</td>\n",
              "      <td>19</td>\n",
              "    </tr>\n",
              "    <tr>\n",
              "      <th>11174</th>\n",
              "      <td>2020-09-21</td>\n",
              "      <td>Virginia</td>\n",
              "      <td>51</td>\n",
              "      <td>141138</td>\n",
              "      <td>3021</td>\n",
              "    </tr>\n",
              "    <tr>\n",
              "      <th>11175</th>\n",
              "      <td>2020-09-21</td>\n",
              "      <td>Washington</td>\n",
              "      <td>53</td>\n",
              "      <td>86803</td>\n",
              "      <td>2137</td>\n",
              "    </tr>\n",
              "    <tr>\n",
              "      <th>11176</th>\n",
              "      <td>2020-09-21</td>\n",
              "      <td>West Virginia</td>\n",
              "      <td>54</td>\n",
              "      <td>14171</td>\n",
              "      <td>312</td>\n",
              "    </tr>\n",
              "    <tr>\n",
              "      <th>11177</th>\n",
              "      <td>2020-09-21</td>\n",
              "      <td>Wisconsin</td>\n",
              "      <td>55</td>\n",
              "      <td>108656</td>\n",
              "      <td>1253</td>\n",
              "    </tr>\n",
              "    <tr>\n",
              "      <th>11178</th>\n",
              "      <td>2020-09-21</td>\n",
              "      <td>Wyoming</td>\n",
              "      <td>56</td>\n",
              "      <td>4944</td>\n",
              "      <td>49</td>\n",
              "    </tr>\n",
              "  </tbody>\n",
              "</table>\n",
              "</div>"
            ],
            "text/plain": [
              "             date           state  fips   cases  deaths\n",
              "11171  2020-09-21            Utah    49   64404     441\n",
              "11172  2020-09-21         Vermont    50    1719      58\n",
              "11173  2020-09-21  Virgin Islands    78    1269      19\n",
              "11174  2020-09-21        Virginia    51  141138    3021\n",
              "11175  2020-09-21      Washington    53   86803    2137\n",
              "11176  2020-09-21   West Virginia    54   14171     312\n",
              "11177  2020-09-21       Wisconsin    55  108656    1253\n",
              "11178  2020-09-21         Wyoming    56    4944      49"
            ]
          },
          "metadata": {
            "tags": []
          },
          "execution_count": 45
        }
      ]
    },
    {
      "cell_type": "markdown",
      "metadata": {
        "id": "EM-6Epd_SwmS"
      },
      "source": [
        "# Handling missing data\n",
        "Reference: https://www.tutorialspoint.com/python_pandas/python_pandas_missing_data.htm\n",
        "\n",
        "- find missing values\n",
        "- methods to fill missing values\n",
        "- replacing anomalous values"
      ]
    },
    {
      "cell_type": "code",
      "metadata": {
        "id": "fO0YOx_TTyPO",
        "outputId": "af53a652-a893-4410-9263-693105867b25",
        "colab": {
          "base_uri": "https://localhost:8080/",
          "height": 419
        }
      },
      "source": [
        "covid.isnull()"
      ],
      "execution_count": null,
      "outputs": [
        {
          "output_type": "execute_result",
          "data": {
            "text/html": [
              "<div>\n",
              "<style scoped>\n",
              "    .dataframe tbody tr th:only-of-type {\n",
              "        vertical-align: middle;\n",
              "    }\n",
              "\n",
              "    .dataframe tbody tr th {\n",
              "        vertical-align: top;\n",
              "    }\n",
              "\n",
              "    .dataframe thead th {\n",
              "        text-align: right;\n",
              "    }\n",
              "</style>\n",
              "<table border=\"1\" class=\"dataframe\">\n",
              "  <thead>\n",
              "    <tr style=\"text-align: right;\">\n",
              "      <th></th>\n",
              "      <th>date</th>\n",
              "      <th>state</th>\n",
              "      <th>fips</th>\n",
              "      <th>cases</th>\n",
              "      <th>deaths</th>\n",
              "    </tr>\n",
              "  </thead>\n",
              "  <tbody>\n",
              "    <tr>\n",
              "      <th>0</th>\n",
              "      <td>False</td>\n",
              "      <td>False</td>\n",
              "      <td>False</td>\n",
              "      <td>False</td>\n",
              "      <td>False</td>\n",
              "    </tr>\n",
              "    <tr>\n",
              "      <th>1</th>\n",
              "      <td>False</td>\n",
              "      <td>False</td>\n",
              "      <td>False</td>\n",
              "      <td>False</td>\n",
              "      <td>False</td>\n",
              "    </tr>\n",
              "    <tr>\n",
              "      <th>2</th>\n",
              "      <td>False</td>\n",
              "      <td>False</td>\n",
              "      <td>False</td>\n",
              "      <td>False</td>\n",
              "      <td>False</td>\n",
              "    </tr>\n",
              "    <tr>\n",
              "      <th>3</th>\n",
              "      <td>False</td>\n",
              "      <td>False</td>\n",
              "      <td>False</td>\n",
              "      <td>False</td>\n",
              "      <td>False</td>\n",
              "    </tr>\n",
              "    <tr>\n",
              "      <th>4</th>\n",
              "      <td>False</td>\n",
              "      <td>False</td>\n",
              "      <td>False</td>\n",
              "      <td>False</td>\n",
              "      <td>False</td>\n",
              "    </tr>\n",
              "    <tr>\n",
              "      <th>...</th>\n",
              "      <td>...</td>\n",
              "      <td>...</td>\n",
              "      <td>...</td>\n",
              "      <td>...</td>\n",
              "      <td>...</td>\n",
              "    </tr>\n",
              "    <tr>\n",
              "      <th>11174</th>\n",
              "      <td>False</td>\n",
              "      <td>False</td>\n",
              "      <td>False</td>\n",
              "      <td>False</td>\n",
              "      <td>False</td>\n",
              "    </tr>\n",
              "    <tr>\n",
              "      <th>11175</th>\n",
              "      <td>False</td>\n",
              "      <td>False</td>\n",
              "      <td>False</td>\n",
              "      <td>False</td>\n",
              "      <td>False</td>\n",
              "    </tr>\n",
              "    <tr>\n",
              "      <th>11176</th>\n",
              "      <td>False</td>\n",
              "      <td>False</td>\n",
              "      <td>False</td>\n",
              "      <td>False</td>\n",
              "      <td>False</td>\n",
              "    </tr>\n",
              "    <tr>\n",
              "      <th>11177</th>\n",
              "      <td>False</td>\n",
              "      <td>False</td>\n",
              "      <td>False</td>\n",
              "      <td>False</td>\n",
              "      <td>False</td>\n",
              "    </tr>\n",
              "    <tr>\n",
              "      <th>11178</th>\n",
              "      <td>False</td>\n",
              "      <td>False</td>\n",
              "      <td>False</td>\n",
              "      <td>False</td>\n",
              "      <td>False</td>\n",
              "    </tr>\n",
              "  </tbody>\n",
              "</table>\n",
              "<p>11179 rows × 5 columns</p>\n",
              "</div>"
            ],
            "text/plain": [
              "        date  state   fips  cases  deaths\n",
              "0      False  False  False  False   False\n",
              "1      False  False  False  False   False\n",
              "2      False  False  False  False   False\n",
              "3      False  False  False  False   False\n",
              "4      False  False  False  False   False\n",
              "...      ...    ...    ...    ...     ...\n",
              "11174  False  False  False  False   False\n",
              "11175  False  False  False  False   False\n",
              "11176  False  False  False  False   False\n",
              "11177  False  False  False  False   False\n",
              "11178  False  False  False  False   False\n",
              "\n",
              "[11179 rows x 5 columns]"
            ]
          },
          "metadata": {
            "tags": []
          },
          "execution_count": 69
        }
      ]
    },
    {
      "cell_type": "code",
      "metadata": {
        "id": "W5Zpz8EdSt6R",
        "outputId": "9a264b74-a1ff-4b93-a79a-efbfdc7dda3d",
        "colab": {
          "base_uri": "https://localhost:8080/",
          "height": 119
        }
      },
      "source": [
        "covid.isnull().any()"
      ],
      "execution_count": null,
      "outputs": [
        {
          "output_type": "execute_result",
          "data": {
            "text/plain": [
              "date      False\n",
              "state     False\n",
              "fips      False\n",
              "cases     False\n",
              "deaths    False\n",
              "dtype: bool"
            ]
          },
          "metadata": {
            "tags": []
          },
          "execution_count": 70
        }
      ]
    },
    {
      "cell_type": "code",
      "metadata": {
        "id": "fIAMIGbyTMl4",
        "outputId": "aec45025-5c55-4710-b6a0-51240be9b2ac",
        "colab": {
          "base_uri": "https://localhost:8080/",
          "height": 419
        }
      },
      "source": [
        "covid.fillna(0)"
      ],
      "execution_count": null,
      "outputs": [
        {
          "output_type": "execute_result",
          "data": {
            "text/html": [
              "<div>\n",
              "<style scoped>\n",
              "    .dataframe tbody tr th:only-of-type {\n",
              "        vertical-align: middle;\n",
              "    }\n",
              "\n",
              "    .dataframe tbody tr th {\n",
              "        vertical-align: top;\n",
              "    }\n",
              "\n",
              "    .dataframe thead th {\n",
              "        text-align: right;\n",
              "    }\n",
              "</style>\n",
              "<table border=\"1\" class=\"dataframe\">\n",
              "  <thead>\n",
              "    <tr style=\"text-align: right;\">\n",
              "      <th></th>\n",
              "      <th>date</th>\n",
              "      <th>state</th>\n",
              "      <th>fips</th>\n",
              "      <th>cases</th>\n",
              "      <th>deaths</th>\n",
              "    </tr>\n",
              "  </thead>\n",
              "  <tbody>\n",
              "    <tr>\n",
              "      <th>0</th>\n",
              "      <td>2020-01-21</td>\n",
              "      <td>Washington</td>\n",
              "      <td>53</td>\n",
              "      <td>1</td>\n",
              "      <td>0</td>\n",
              "    </tr>\n",
              "    <tr>\n",
              "      <th>1</th>\n",
              "      <td>2020-01-22</td>\n",
              "      <td>Washington</td>\n",
              "      <td>53</td>\n",
              "      <td>1</td>\n",
              "      <td>0</td>\n",
              "    </tr>\n",
              "    <tr>\n",
              "      <th>2</th>\n",
              "      <td>2020-01-23</td>\n",
              "      <td>Washington</td>\n",
              "      <td>53</td>\n",
              "      <td>1</td>\n",
              "      <td>0</td>\n",
              "    </tr>\n",
              "    <tr>\n",
              "      <th>3</th>\n",
              "      <td>2020-01-24</td>\n",
              "      <td>Illinois</td>\n",
              "      <td>17</td>\n",
              "      <td>1</td>\n",
              "      <td>0</td>\n",
              "    </tr>\n",
              "    <tr>\n",
              "      <th>4</th>\n",
              "      <td>2020-01-24</td>\n",
              "      <td>Washington</td>\n",
              "      <td>53</td>\n",
              "      <td>1</td>\n",
              "      <td>0</td>\n",
              "    </tr>\n",
              "    <tr>\n",
              "      <th>...</th>\n",
              "      <td>...</td>\n",
              "      <td>...</td>\n",
              "      <td>...</td>\n",
              "      <td>...</td>\n",
              "      <td>...</td>\n",
              "    </tr>\n",
              "    <tr>\n",
              "      <th>11174</th>\n",
              "      <td>2020-09-21</td>\n",
              "      <td>Virginia</td>\n",
              "      <td>51</td>\n",
              "      <td>141138</td>\n",
              "      <td>3021</td>\n",
              "    </tr>\n",
              "    <tr>\n",
              "      <th>11175</th>\n",
              "      <td>2020-09-21</td>\n",
              "      <td>Washington</td>\n",
              "      <td>53</td>\n",
              "      <td>86803</td>\n",
              "      <td>2137</td>\n",
              "    </tr>\n",
              "    <tr>\n",
              "      <th>11176</th>\n",
              "      <td>2020-09-21</td>\n",
              "      <td>West Virginia</td>\n",
              "      <td>54</td>\n",
              "      <td>14171</td>\n",
              "      <td>312</td>\n",
              "    </tr>\n",
              "    <tr>\n",
              "      <th>11177</th>\n",
              "      <td>2020-09-21</td>\n",
              "      <td>Wisconsin</td>\n",
              "      <td>55</td>\n",
              "      <td>108656</td>\n",
              "      <td>1253</td>\n",
              "    </tr>\n",
              "    <tr>\n",
              "      <th>11178</th>\n",
              "      <td>2020-09-21</td>\n",
              "      <td>Wyoming</td>\n",
              "      <td>56</td>\n",
              "      <td>4944</td>\n",
              "      <td>49</td>\n",
              "    </tr>\n",
              "  </tbody>\n",
              "</table>\n",
              "<p>11179 rows × 5 columns</p>\n",
              "</div>"
            ],
            "text/plain": [
              "             date          state  fips   cases  deaths\n",
              "0      2020-01-21     Washington    53       1       0\n",
              "1      2020-01-22     Washington    53       1       0\n",
              "2      2020-01-23     Washington    53       1       0\n",
              "3      2020-01-24       Illinois    17       1       0\n",
              "4      2020-01-24     Washington    53       1       0\n",
              "...           ...            ...   ...     ...     ...\n",
              "11174  2020-09-21       Virginia    51  141138    3021\n",
              "11175  2020-09-21     Washington    53   86803    2137\n",
              "11176  2020-09-21  West Virginia    54   14171     312\n",
              "11177  2020-09-21      Wisconsin    55  108656    1253\n",
              "11178  2020-09-21        Wyoming    56    4944      49\n",
              "\n",
              "[11179 rows x 5 columns]"
            ]
          },
          "metadata": {
            "tags": []
          },
          "execution_count": 66
        }
      ]
    },
    {
      "cell_type": "code",
      "metadata": {
        "id": "DSXexYptTQsD",
        "outputId": "6e208d28-7a30-4a83-9cc5-d498bfb5b9f7",
        "colab": {
          "base_uri": "https://localhost:8080/",
          "height": 419
        }
      },
      "source": [
        "covid.fillna(method='pad') #fill forward\n",
        "covid.fillna(method='backfill') #fill backwards"
      ],
      "execution_count": null,
      "outputs": [
        {
          "output_type": "execute_result",
          "data": {
            "text/html": [
              "<div>\n",
              "<style scoped>\n",
              "    .dataframe tbody tr th:only-of-type {\n",
              "        vertical-align: middle;\n",
              "    }\n",
              "\n",
              "    .dataframe tbody tr th {\n",
              "        vertical-align: top;\n",
              "    }\n",
              "\n",
              "    .dataframe thead th {\n",
              "        text-align: right;\n",
              "    }\n",
              "</style>\n",
              "<table border=\"1\" class=\"dataframe\">\n",
              "  <thead>\n",
              "    <tr style=\"text-align: right;\">\n",
              "      <th></th>\n",
              "      <th>date</th>\n",
              "      <th>state</th>\n",
              "      <th>fips</th>\n",
              "      <th>cases</th>\n",
              "      <th>deaths</th>\n",
              "    </tr>\n",
              "  </thead>\n",
              "  <tbody>\n",
              "    <tr>\n",
              "      <th>0</th>\n",
              "      <td>2020-01-21</td>\n",
              "      <td>Washington</td>\n",
              "      <td>53</td>\n",
              "      <td>1</td>\n",
              "      <td>0</td>\n",
              "    </tr>\n",
              "    <tr>\n",
              "      <th>1</th>\n",
              "      <td>2020-01-22</td>\n",
              "      <td>Washington</td>\n",
              "      <td>53</td>\n",
              "      <td>1</td>\n",
              "      <td>0</td>\n",
              "    </tr>\n",
              "    <tr>\n",
              "      <th>2</th>\n",
              "      <td>2020-01-23</td>\n",
              "      <td>Washington</td>\n",
              "      <td>53</td>\n",
              "      <td>1</td>\n",
              "      <td>0</td>\n",
              "    </tr>\n",
              "    <tr>\n",
              "      <th>3</th>\n",
              "      <td>2020-01-24</td>\n",
              "      <td>Illinois</td>\n",
              "      <td>17</td>\n",
              "      <td>1</td>\n",
              "      <td>0</td>\n",
              "    </tr>\n",
              "    <tr>\n",
              "      <th>4</th>\n",
              "      <td>2020-01-24</td>\n",
              "      <td>Washington</td>\n",
              "      <td>53</td>\n",
              "      <td>1</td>\n",
              "      <td>0</td>\n",
              "    </tr>\n",
              "    <tr>\n",
              "      <th>...</th>\n",
              "      <td>...</td>\n",
              "      <td>...</td>\n",
              "      <td>...</td>\n",
              "      <td>...</td>\n",
              "      <td>...</td>\n",
              "    </tr>\n",
              "    <tr>\n",
              "      <th>11174</th>\n",
              "      <td>2020-09-21</td>\n",
              "      <td>Virginia</td>\n",
              "      <td>51</td>\n",
              "      <td>141138</td>\n",
              "      <td>3021</td>\n",
              "    </tr>\n",
              "    <tr>\n",
              "      <th>11175</th>\n",
              "      <td>2020-09-21</td>\n",
              "      <td>Washington</td>\n",
              "      <td>53</td>\n",
              "      <td>86803</td>\n",
              "      <td>2137</td>\n",
              "    </tr>\n",
              "    <tr>\n",
              "      <th>11176</th>\n",
              "      <td>2020-09-21</td>\n",
              "      <td>West Virginia</td>\n",
              "      <td>54</td>\n",
              "      <td>14171</td>\n",
              "      <td>312</td>\n",
              "    </tr>\n",
              "    <tr>\n",
              "      <th>11177</th>\n",
              "      <td>2020-09-21</td>\n",
              "      <td>Wisconsin</td>\n",
              "      <td>55</td>\n",
              "      <td>108656</td>\n",
              "      <td>1253</td>\n",
              "    </tr>\n",
              "    <tr>\n",
              "      <th>11178</th>\n",
              "      <td>2020-09-21</td>\n",
              "      <td>Wyoming</td>\n",
              "      <td>56</td>\n",
              "      <td>4944</td>\n",
              "      <td>49</td>\n",
              "    </tr>\n",
              "  </tbody>\n",
              "</table>\n",
              "<p>11179 rows × 5 columns</p>\n",
              "</div>"
            ],
            "text/plain": [
              "             date          state  fips   cases  deaths\n",
              "0      2020-01-21     Washington    53       1       0\n",
              "1      2020-01-22     Washington    53       1       0\n",
              "2      2020-01-23     Washington    53       1       0\n",
              "3      2020-01-24       Illinois    17       1       0\n",
              "4      2020-01-24     Washington    53       1       0\n",
              "...           ...            ...   ...     ...     ...\n",
              "11174  2020-09-21       Virginia    51  141138    3021\n",
              "11175  2020-09-21     Washington    53   86803    2137\n",
              "11176  2020-09-21  West Virginia    54   14171     312\n",
              "11177  2020-09-21      Wisconsin    55  108656    1253\n",
              "11178  2020-09-21        Wyoming    56    4944      49\n",
              "\n",
              "[11179 rows x 5 columns]"
            ]
          },
          "metadata": {
            "tags": []
          },
          "execution_count": 67
        }
      ]
    },
    {
      "cell_type": "code",
      "metadata": {
        "id": "wF-d0ZxTVBrF",
        "outputId": "c129359a-7847-4c20-b20e-380ac783c25a",
        "colab": {
          "base_uri": "https://localhost:8080/",
          "height": 235
        }
      },
      "source": [
        "example = pd.DataFrame({'one':[10,20,30,40,50,2000], 'two':[1000,0,30,40,50,60]})\n",
        "example"
      ],
      "execution_count": null,
      "outputs": [
        {
          "output_type": "execute_result",
          "data": {
            "text/html": [
              "<div>\n",
              "<style scoped>\n",
              "    .dataframe tbody tr th:only-of-type {\n",
              "        vertical-align: middle;\n",
              "    }\n",
              "\n",
              "    .dataframe tbody tr th {\n",
              "        vertical-align: top;\n",
              "    }\n",
              "\n",
              "    .dataframe thead th {\n",
              "        text-align: right;\n",
              "    }\n",
              "</style>\n",
              "<table border=\"1\" class=\"dataframe\">\n",
              "  <thead>\n",
              "    <tr style=\"text-align: right;\">\n",
              "      <th></th>\n",
              "      <th>one</th>\n",
              "      <th>two</th>\n",
              "    </tr>\n",
              "  </thead>\n",
              "  <tbody>\n",
              "    <tr>\n",
              "      <th>0</th>\n",
              "      <td>10</td>\n",
              "      <td>1000</td>\n",
              "    </tr>\n",
              "    <tr>\n",
              "      <th>1</th>\n",
              "      <td>20</td>\n",
              "      <td>0</td>\n",
              "    </tr>\n",
              "    <tr>\n",
              "      <th>2</th>\n",
              "      <td>30</td>\n",
              "      <td>30</td>\n",
              "    </tr>\n",
              "    <tr>\n",
              "      <th>3</th>\n",
              "      <td>40</td>\n",
              "      <td>40</td>\n",
              "    </tr>\n",
              "    <tr>\n",
              "      <th>4</th>\n",
              "      <td>50</td>\n",
              "      <td>50</td>\n",
              "    </tr>\n",
              "    <tr>\n",
              "      <th>5</th>\n",
              "      <td>2000</td>\n",
              "      <td>60</td>\n",
              "    </tr>\n",
              "  </tbody>\n",
              "</table>\n",
              "</div>"
            ],
            "text/plain": [
              "    one   two\n",
              "0    10  1000\n",
              "1    20     0\n",
              "2    30    30\n",
              "3    40    40\n",
              "4    50    50\n",
              "5  2000    60"
            ]
          },
          "metadata": {
            "tags": []
          },
          "execution_count": 72
        }
      ]
    },
    {
      "cell_type": "code",
      "metadata": {
        "id": "DflZhr4lVRF7",
        "outputId": "6aeb0fb9-369b-4b34-8feb-b8e6941666e9",
        "colab": {
          "base_uri": "https://localhost:8080/",
          "height": 235
        }
      },
      "source": [
        "example.replace({1000:10,2000:60}) #replacing anomalous values"
      ],
      "execution_count": null,
      "outputs": [
        {
          "output_type": "execute_result",
          "data": {
            "text/html": [
              "<div>\n",
              "<style scoped>\n",
              "    .dataframe tbody tr th:only-of-type {\n",
              "        vertical-align: middle;\n",
              "    }\n",
              "\n",
              "    .dataframe tbody tr th {\n",
              "        vertical-align: top;\n",
              "    }\n",
              "\n",
              "    .dataframe thead th {\n",
              "        text-align: right;\n",
              "    }\n",
              "</style>\n",
              "<table border=\"1\" class=\"dataframe\">\n",
              "  <thead>\n",
              "    <tr style=\"text-align: right;\">\n",
              "      <th></th>\n",
              "      <th>one</th>\n",
              "      <th>two</th>\n",
              "    </tr>\n",
              "  </thead>\n",
              "  <tbody>\n",
              "    <tr>\n",
              "      <th>0</th>\n",
              "      <td>10</td>\n",
              "      <td>10</td>\n",
              "    </tr>\n",
              "    <tr>\n",
              "      <th>1</th>\n",
              "      <td>20</td>\n",
              "      <td>0</td>\n",
              "    </tr>\n",
              "    <tr>\n",
              "      <th>2</th>\n",
              "      <td>30</td>\n",
              "      <td>30</td>\n",
              "    </tr>\n",
              "    <tr>\n",
              "      <th>3</th>\n",
              "      <td>40</td>\n",
              "      <td>40</td>\n",
              "    </tr>\n",
              "    <tr>\n",
              "      <th>4</th>\n",
              "      <td>50</td>\n",
              "      <td>50</td>\n",
              "    </tr>\n",
              "    <tr>\n",
              "      <th>5</th>\n",
              "      <td>60</td>\n",
              "      <td>60</td>\n",
              "    </tr>\n",
              "  </tbody>\n",
              "</table>\n",
              "</div>"
            ],
            "text/plain": [
              "   one  two\n",
              "0   10   10\n",
              "1   20    0\n",
              "2   30   30\n",
              "3   40   40\n",
              "4   50   50\n",
              "5   60   60"
            ]
          },
          "metadata": {
            "tags": []
          },
          "execution_count": 75
        }
      ]
    },
    {
      "cell_type": "markdown",
      "metadata": {
        "id": "pAqvhGxuG5hS"
      },
      "source": [
        "# Selecting data from dataframe\n",
        "Reference: https://www.tutorialspoint.com/python_pandas/python_pandas_indexing_and_selecting_data.htm\n",
        "\n"
      ]
    },
    {
      "cell_type": "code",
      "metadata": {
        "id": "ivAdbCpCHBV6",
        "outputId": "ae709bcc-1698-4967-b973-0d48101f9b1c",
        "colab": {
          "base_uri": "https://localhost:8080/",
          "height": 221
        }
      },
      "source": [
        "#select all rows for a specific column\n",
        "covid.loc[:,'state'] # format df.loc[rows, columns]"
      ],
      "execution_count": null,
      "outputs": [
        {
          "output_type": "execute_result",
          "data": {
            "text/plain": [
              "0           Washington\n",
              "1           Washington\n",
              "2           Washington\n",
              "3             Illinois\n",
              "4           Washington\n",
              "             ...      \n",
              "11174         Virginia\n",
              "11175       Washington\n",
              "11176    West Virginia\n",
              "11177        Wisconsin\n",
              "11178          Wyoming\n",
              "Name: state, Length: 11179, dtype: object"
            ]
          },
          "metadata": {
            "tags": []
          },
          "execution_count": 54
        }
      ]
    },
    {
      "cell_type": "code",
      "metadata": {
        "id": "NvZmg-jiRbZ2",
        "outputId": "a7e5d4ec-e26c-4d90-b84c-d41f82ca8302",
        "colab": {
          "base_uri": "https://localhost:8080/",
          "height": 419
        }
      },
      "source": [
        "covid.loc[100:500,['state', 'cases']]"
      ],
      "execution_count": null,
      "outputs": [
        {
          "output_type": "execute_result",
          "data": {
            "text/html": [
              "<div>\n",
              "<style scoped>\n",
              "    .dataframe tbody tr th:only-of-type {\n",
              "        vertical-align: middle;\n",
              "    }\n",
              "\n",
              "    .dataframe tbody tr th {\n",
              "        vertical-align: top;\n",
              "    }\n",
              "\n",
              "    .dataframe thead th {\n",
              "        text-align: right;\n",
              "    }\n",
              "</style>\n",
              "<table border=\"1\" class=\"dataframe\">\n",
              "  <thead>\n",
              "    <tr style=\"text-align: right;\">\n",
              "      <th></th>\n",
              "      <th>state</th>\n",
              "      <th>cases</th>\n",
              "    </tr>\n",
              "  </thead>\n",
              "  <tbody>\n",
              "    <tr>\n",
              "      <th>100</th>\n",
              "      <td>Wisconsin</td>\n",
              "      <td>1</td>\n",
              "    </tr>\n",
              "    <tr>\n",
              "      <th>101</th>\n",
              "      <td>Arizona</td>\n",
              "      <td>1</td>\n",
              "    </tr>\n",
              "    <tr>\n",
              "      <th>102</th>\n",
              "      <td>California</td>\n",
              "      <td>7</td>\n",
              "    </tr>\n",
              "    <tr>\n",
              "      <th>103</th>\n",
              "      <td>Illinois</td>\n",
              "      <td>2</td>\n",
              "    </tr>\n",
              "    <tr>\n",
              "      <th>104</th>\n",
              "      <td>Massachusetts</td>\n",
              "      <td>1</td>\n",
              "    </tr>\n",
              "    <tr>\n",
              "      <th>...</th>\n",
              "      <td>...</td>\n",
              "      <td>...</td>\n",
              "    </tr>\n",
              "    <tr>\n",
              "      <th>496</th>\n",
              "      <td>California</td>\n",
              "      <td>202</td>\n",
              "    </tr>\n",
              "    <tr>\n",
              "      <th>497</th>\n",
              "      <td>Colorado</td>\n",
              "      <td>34</td>\n",
              "    </tr>\n",
              "    <tr>\n",
              "      <th>498</th>\n",
              "      <td>Connecticut</td>\n",
              "      <td>3</td>\n",
              "    </tr>\n",
              "    <tr>\n",
              "      <th>499</th>\n",
              "      <td>Delaware</td>\n",
              "      <td>1</td>\n",
              "    </tr>\n",
              "    <tr>\n",
              "      <th>500</th>\n",
              "      <td>District of Columbia</td>\n",
              "      <td>10</td>\n",
              "    </tr>\n",
              "  </tbody>\n",
              "</table>\n",
              "<p>401 rows × 2 columns</p>\n",
              "</div>"
            ],
            "text/plain": [
              "                    state  cases\n",
              "100             Wisconsin      1\n",
              "101               Arizona      1\n",
              "102            California      7\n",
              "103              Illinois      2\n",
              "104         Massachusetts      1\n",
              "..                    ...    ...\n",
              "496            California    202\n",
              "497              Colorado     34\n",
              "498           Connecticut      3\n",
              "499              Delaware      1\n",
              "500  District of Columbia     10\n",
              "\n",
              "[401 rows x 2 columns]"
            ]
          },
          "metadata": {
            "tags": []
          },
          "execution_count": 57
        }
      ]
    },
    {
      "cell_type": "markdown",
      "metadata": {
        "id": "o6TGhKf-GZAC"
      },
      "source": [
        "# Groups\n",
        "Used to prepare data for plots and analysis.\n",
        "\n",
        "Reference: \n",
        "\n",
        "*  https://www.tutorialspoint.com/python_pandas/python_pandas_groupby.htm\n",
        "\n"
      ]
    },
    {
      "cell_type": "code",
      "metadata": {
        "id": "Y8IOXacBZ5Kh",
        "outputId": "72eca6de-c7fd-4eb2-af94-0df3dbf55efb",
        "colab": {
          "base_uri": "https://localhost:8080/",
          "height": 419
        }
      },
      "source": [
        "cases_by_state = covid[['state', 'cases']]\n",
        "cases_by_state"
      ],
      "execution_count": null,
      "outputs": [
        {
          "output_type": "execute_result",
          "data": {
            "text/html": [
              "<div>\n",
              "<style scoped>\n",
              "    .dataframe tbody tr th:only-of-type {\n",
              "        vertical-align: middle;\n",
              "    }\n",
              "\n",
              "    .dataframe tbody tr th {\n",
              "        vertical-align: top;\n",
              "    }\n",
              "\n",
              "    .dataframe thead th {\n",
              "        text-align: right;\n",
              "    }\n",
              "</style>\n",
              "<table border=\"1\" class=\"dataframe\">\n",
              "  <thead>\n",
              "    <tr style=\"text-align: right;\">\n",
              "      <th></th>\n",
              "      <th>state</th>\n",
              "      <th>cases</th>\n",
              "    </tr>\n",
              "  </thead>\n",
              "  <tbody>\n",
              "    <tr>\n",
              "      <th>0</th>\n",
              "      <td>Washington</td>\n",
              "      <td>1</td>\n",
              "    </tr>\n",
              "    <tr>\n",
              "      <th>1</th>\n",
              "      <td>Washington</td>\n",
              "      <td>1</td>\n",
              "    </tr>\n",
              "    <tr>\n",
              "      <th>2</th>\n",
              "      <td>Washington</td>\n",
              "      <td>1</td>\n",
              "    </tr>\n",
              "    <tr>\n",
              "      <th>3</th>\n",
              "      <td>Illinois</td>\n",
              "      <td>1</td>\n",
              "    </tr>\n",
              "    <tr>\n",
              "      <th>4</th>\n",
              "      <td>Washington</td>\n",
              "      <td>1</td>\n",
              "    </tr>\n",
              "    <tr>\n",
              "      <th>...</th>\n",
              "      <td>...</td>\n",
              "      <td>...</td>\n",
              "    </tr>\n",
              "    <tr>\n",
              "      <th>11174</th>\n",
              "      <td>Virginia</td>\n",
              "      <td>141138</td>\n",
              "    </tr>\n",
              "    <tr>\n",
              "      <th>11175</th>\n",
              "      <td>Washington</td>\n",
              "      <td>86803</td>\n",
              "    </tr>\n",
              "    <tr>\n",
              "      <th>11176</th>\n",
              "      <td>West Virginia</td>\n",
              "      <td>14171</td>\n",
              "    </tr>\n",
              "    <tr>\n",
              "      <th>11177</th>\n",
              "      <td>Wisconsin</td>\n",
              "      <td>108656</td>\n",
              "    </tr>\n",
              "    <tr>\n",
              "      <th>11178</th>\n",
              "      <td>Wyoming</td>\n",
              "      <td>4944</td>\n",
              "    </tr>\n",
              "  </tbody>\n",
              "</table>\n",
              "<p>11179 rows × 2 columns</p>\n",
              "</div>"
            ],
            "text/plain": [
              "               state   cases\n",
              "0         Washington       1\n",
              "1         Washington       1\n",
              "2         Washington       1\n",
              "3           Illinois       1\n",
              "4         Washington       1\n",
              "...              ...     ...\n",
              "11174       Virginia  141138\n",
              "11175     Washington   86803\n",
              "11176  West Virginia   14171\n",
              "11177      Wisconsin  108656\n",
              "11178        Wyoming    4944\n",
              "\n",
              "[11179 rows x 2 columns]"
            ]
          },
          "metadata": {
            "tags": []
          },
          "execution_count": 21
        }
      ]
    },
    {
      "cell_type": "code",
      "metadata": {
        "id": "WoRB6UxeZQhg",
        "outputId": "ec158e50-7a53-45a3-baed-bca9c0d01323",
        "colab": {
          "base_uri": "https://localhost:8080/",
          "height": 34
        }
      },
      "source": [
        "cases_by_state.groupby('state')"
      ],
      "execution_count": null,
      "outputs": [
        {
          "output_type": "execute_result",
          "data": {
            "text/plain": [
              "<pandas.core.groupby.generic.DataFrameGroupBy object at 0x7f8a240b5358>"
            ]
          },
          "metadata": {
            "tags": []
          },
          "execution_count": 15
        }
      ]
    },
    {
      "cell_type": "code",
      "metadata": {
        "id": "l23w5NgGaBBG"
      },
      "source": [
        "cases_by_state.groupby('state').groups"
      ],
      "execution_count": null,
      "outputs": []
    },
    {
      "cell_type": "code",
      "metadata": {
        "id": "duYkGaRmaMD1",
        "outputId": "df2e0785-d202-4131-aad1-2cf7b257be09",
        "colab": {
          "base_uri": "https://localhost:8080/",
          "height": 419
        }
      },
      "source": [
        "cases_by_state.groupby('state').get_group('South Dakota')"
      ],
      "execution_count": null,
      "outputs": [
        {
          "output_type": "execute_result",
          "data": {
            "text/html": [
              "<div>\n",
              "<style scoped>\n",
              "    .dataframe tbody tr th:only-of-type {\n",
              "        vertical-align: middle;\n",
              "    }\n",
              "\n",
              "    .dataframe tbody tr th {\n",
              "        vertical-align: top;\n",
              "    }\n",
              "\n",
              "    .dataframe thead th {\n",
              "        text-align: right;\n",
              "    }\n",
              "</style>\n",
              "<table border=\"1\" class=\"dataframe\">\n",
              "  <thead>\n",
              "    <tr style=\"text-align: right;\">\n",
              "      <th></th>\n",
              "      <th>state</th>\n",
              "      <th>cases</th>\n",
              "    </tr>\n",
              "  </thead>\n",
              "  <tbody>\n",
              "    <tr>\n",
              "      <th>486</th>\n",
              "      <td>South Dakota</td>\n",
              "      <td>5</td>\n",
              "    </tr>\n",
              "    <tr>\n",
              "      <th>530</th>\n",
              "      <td>South Dakota</td>\n",
              "      <td>8</td>\n",
              "    </tr>\n",
              "    <tr>\n",
              "      <th>577</th>\n",
              "      <td>South Dakota</td>\n",
              "      <td>8</td>\n",
              "    </tr>\n",
              "    <tr>\n",
              "      <th>628</th>\n",
              "      <td>South Dakota</td>\n",
              "      <td>9</td>\n",
              "    </tr>\n",
              "    <tr>\n",
              "      <th>679</th>\n",
              "      <td>South Dakota</td>\n",
              "      <td>9</td>\n",
              "    </tr>\n",
              "    <tr>\n",
              "      <th>...</th>\n",
              "      <td>...</td>\n",
              "      <td>...</td>\n",
              "    </tr>\n",
              "    <tr>\n",
              "      <th>10948</th>\n",
              "      <td>South Dakota</td>\n",
              "      <td>17686</td>\n",
              "    </tr>\n",
              "    <tr>\n",
              "      <th>11003</th>\n",
              "      <td>South Dakota</td>\n",
              "      <td>18075</td>\n",
              "    </tr>\n",
              "    <tr>\n",
              "      <th>11058</th>\n",
              "      <td>South Dakota</td>\n",
              "      <td>18444</td>\n",
              "    </tr>\n",
              "    <tr>\n",
              "      <th>11113</th>\n",
              "      <td>South Dakota</td>\n",
              "      <td>18696</td>\n",
              "    </tr>\n",
              "    <tr>\n",
              "      <th>11168</th>\n",
              "      <td>South Dakota</td>\n",
              "      <td>18869</td>\n",
              "    </tr>\n",
              "  </tbody>\n",
              "</table>\n",
              "<p>196 rows × 2 columns</p>\n",
              "</div>"
            ],
            "text/plain": [
              "              state  cases\n",
              "486    South Dakota      5\n",
              "530    South Dakota      8\n",
              "577    South Dakota      8\n",
              "628    South Dakota      9\n",
              "679    South Dakota      9\n",
              "...             ...    ...\n",
              "10948  South Dakota  17686\n",
              "11003  South Dakota  18075\n",
              "11058  South Dakota  18444\n",
              "11113  South Dakota  18696\n",
              "11168  South Dakota  18869\n",
              "\n",
              "[196 rows x 2 columns]"
            ]
          },
          "metadata": {
            "tags": []
          },
          "execution_count": 22
        }
      ]
    },
    {
      "cell_type": "markdown",
      "metadata": {
        "id": "MThFLEv-ap5u"
      },
      "source": [
        "**Aggregated function**\n",
        "\n",
        "An aggregated function returns a single aggregated value for each group. Once the group by object is created, several aggregation operations can be performed on the grouped data."
      ]
    },
    {
      "cell_type": "code",
      "metadata": {
        "id": "F21pfowhbF9u"
      },
      "source": [
        "import numpy as np"
      ],
      "execution_count": null,
      "outputs": []
    },
    {
      "cell_type": "code",
      "metadata": {
        "id": "cZdp4znqaXFr",
        "outputId": "b366c2d6-427c-41bb-b83f-15f5d7f9111b",
        "colab": {
          "base_uri": "https://localhost:8080/",
          "height": 390
        }
      },
      "source": [
        "cases_by_state.groupby('state').agg(np.sum).head(10)"
      ],
      "execution_count": null,
      "outputs": [
        {
          "output_type": "execute_result",
          "data": {
            "text/html": [
              "<div>\n",
              "<style scoped>\n",
              "    .dataframe tbody tr th:only-of-type {\n",
              "        vertical-align: middle;\n",
              "    }\n",
              "\n",
              "    .dataframe tbody tr th {\n",
              "        vertical-align: top;\n",
              "    }\n",
              "\n",
              "    .dataframe thead th {\n",
              "        text-align: right;\n",
              "    }\n",
              "</style>\n",
              "<table border=\"1\" class=\"dataframe\">\n",
              "  <thead>\n",
              "    <tr style=\"text-align: right;\">\n",
              "      <th></th>\n",
              "      <th>cases</th>\n",
              "    </tr>\n",
              "    <tr>\n",
              "      <th>state</th>\n",
              "      <th></th>\n",
              "    </tr>\n",
              "  </thead>\n",
              "  <tbody>\n",
              "    <tr>\n",
              "      <th>Alabama</th>\n",
              "      <td>9447356</td>\n",
              "    </tr>\n",
              "    <tr>\n",
              "      <th>Alaska</th>\n",
              "      <td>412845</td>\n",
              "    </tr>\n",
              "    <tr>\n",
              "      <th>Arizona</th>\n",
              "      <td>16276443</td>\n",
              "    </tr>\n",
              "    <tr>\n",
              "      <th>Arkansas</th>\n",
              "      <td>4664981</td>\n",
              "    </tr>\n",
              "    <tr>\n",
              "      <th>California</th>\n",
              "      <td>54758559</td>\n",
              "    </tr>\n",
              "    <tr>\n",
              "      <th>Colorado</th>\n",
              "      <td>5976792</td>\n",
              "    </tr>\n",
              "    <tr>\n",
              "      <th>Connecticut</th>\n",
              "      <td>7164387</td>\n",
              "    </tr>\n",
              "    <tr>\n",
              "      <th>Delaware</th>\n",
              "      <td>1915621</td>\n",
              "    </tr>\n",
              "    <tr>\n",
              "      <th>District of Columbia</th>\n",
              "      <td>1638698</td>\n",
              "    </tr>\n",
              "    <tr>\n",
              "      <th>Florida</th>\n",
              "      <td>45786258</td>\n",
              "    </tr>\n",
              "  </tbody>\n",
              "</table>\n",
              "</div>"
            ],
            "text/plain": [
              "                         cases\n",
              "state                         \n",
              "Alabama                9447356\n",
              "Alaska                  412845\n",
              "Arizona               16276443\n",
              "Arkansas               4664981\n",
              "California            54758559\n",
              "Colorado               5976792\n",
              "Connecticut            7164387\n",
              "Delaware               1915621\n",
              "District of Columbia   1638698\n",
              "Florida               45786258"
            ]
          },
          "metadata": {
            "tags": []
          },
          "execution_count": 25
        }
      ]
    },
    {
      "cell_type": "code",
      "metadata": {
        "id": "dh5UDhVXbRDW",
        "outputId": "f1d29fb9-3955-44a8-feb9-3749b782d5c4",
        "colab": {
          "base_uri": "https://localhost:8080/",
          "height": 421
        }
      },
      "source": [
        "cases_by_state.groupby('state').agg([np.sum, np.mean, np.std]).head(10)"
      ],
      "execution_count": null,
      "outputs": [
        {
          "output_type": "execute_result",
          "data": {
            "text/html": [
              "<div>\n",
              "<style scoped>\n",
              "    .dataframe tbody tr th:only-of-type {\n",
              "        vertical-align: middle;\n",
              "    }\n",
              "\n",
              "    .dataframe tbody tr th {\n",
              "        vertical-align: top;\n",
              "    }\n",
              "\n",
              "    .dataframe thead tr th {\n",
              "        text-align: left;\n",
              "    }\n",
              "\n",
              "    .dataframe thead tr:last-of-type th {\n",
              "        text-align: right;\n",
              "    }\n",
              "</style>\n",
              "<table border=\"1\" class=\"dataframe\">\n",
              "  <thead>\n",
              "    <tr>\n",
              "      <th></th>\n",
              "      <th colspan=\"3\" halign=\"left\">cases</th>\n",
              "    </tr>\n",
              "    <tr>\n",
              "      <th></th>\n",
              "      <th>sum</th>\n",
              "      <th>mean</th>\n",
              "      <th>std</th>\n",
              "    </tr>\n",
              "    <tr>\n",
              "      <th>state</th>\n",
              "      <th></th>\n",
              "      <th></th>\n",
              "      <th></th>\n",
              "    </tr>\n",
              "  </thead>\n",
              "  <tbody>\n",
              "    <tr>\n",
              "      <th>Alabama</th>\n",
              "      <td>9447356</td>\n",
              "      <td>48950.031088</td>\n",
              "      <td>48438.793576</td>\n",
              "    </tr>\n",
              "    <tr>\n",
              "      <th>Alaska</th>\n",
              "      <td>412845</td>\n",
              "      <td>2128.067010</td>\n",
              "      <td>2409.353427</td>\n",
              "    </tr>\n",
              "    <tr>\n",
              "      <th>Arizona</th>\n",
              "      <td>16276443</td>\n",
              "      <td>67818.512500</td>\n",
              "      <td>81515.401548</td>\n",
              "    </tr>\n",
              "    <tr>\n",
              "      <th>Arkansas</th>\n",
              "      <td>4664981</td>\n",
              "      <td>23922.979487</td>\n",
              "      <td>24266.116452</td>\n",
              "    </tr>\n",
              "    <tr>\n",
              "      <th>California</th>\n",
              "      <td>54758559</td>\n",
              "      <td>227213.937759</td>\n",
              "      <td>266340.056195</td>\n",
              "    </tr>\n",
              "    <tr>\n",
              "      <th>Colorado</th>\n",
              "      <td>5976792</td>\n",
              "      <td>29735.283582</td>\n",
              "      <td>20056.183402</td>\n",
              "    </tr>\n",
              "    <tr>\n",
              "      <th>Connecticut</th>\n",
              "      <td>7164387</td>\n",
              "      <td>36183.772727</td>\n",
              "      <td>18300.698665</td>\n",
              "    </tr>\n",
              "    <tr>\n",
              "      <th>Delaware</th>\n",
              "      <td>1915621</td>\n",
              "      <td>9823.697436</td>\n",
              "      <td>6151.726517</td>\n",
              "    </tr>\n",
              "    <tr>\n",
              "      <th>District of Columbia</th>\n",
              "      <td>1638698</td>\n",
              "      <td>8234.663317</td>\n",
              "      <td>4898.832248</td>\n",
              "    </tr>\n",
              "    <tr>\n",
              "      <th>Florida</th>\n",
              "      <td>45786258</td>\n",
              "      <td>223347.600000</td>\n",
              "      <td>247292.915676</td>\n",
              "    </tr>\n",
              "  </tbody>\n",
              "</table>\n",
              "</div>"
            ],
            "text/plain": [
              "                         cases                              \n",
              "                           sum           mean            std\n",
              "state                                                       \n",
              "Alabama                9447356   48950.031088   48438.793576\n",
              "Alaska                  412845    2128.067010    2409.353427\n",
              "Arizona               16276443   67818.512500   81515.401548\n",
              "Arkansas               4664981   23922.979487   24266.116452\n",
              "California            54758559  227213.937759  266340.056195\n",
              "Colorado               5976792   29735.283582   20056.183402\n",
              "Connecticut            7164387   36183.772727   18300.698665\n",
              "Delaware               1915621    9823.697436    6151.726517\n",
              "District of Columbia   1638698    8234.663317    4898.832248\n",
              "Florida               45786258  223347.600000  247292.915676"
            ]
          },
          "metadata": {
            "tags": []
          },
          "execution_count": 26
        }
      ]
    },
    {
      "cell_type": "markdown",
      "metadata": {
        "id": "AmNn_wueFNts"
      },
      "source": [
        "# Math and stats functions\n",
        "Used to understand your data better.\n",
        "\n",
        "References: \n",
        "* https://www.tutorialspoint.com/python_pandas/python_pandas_descriptive_statistics.htm\n",
        "* https://www.tutorialspoint.com/python_pandas/python_pandas_statistical_functions.htm"
      ]
    },
    {
      "cell_type": "code",
      "metadata": {
        "id": "AqdfedRsDgAg",
        "outputId": "fedc5569-7bca-4d69-d619-d649dc006381",
        "colab": {
          "base_uri": "https://localhost:8080/",
          "height": 289
        }
      },
      "source": [
        "print(\"Max: \", covid['cases'].max())\n",
        "print(\"Min: \", covid['cases'].min())\n",
        "print(\"Sum: \", covid['cases'].sum())\n",
        "print(\"Count: \", covid['cases'].count())\n",
        "print(\"Median: \", covid['cases'].median())\n",
        "print()\n",
        "print(\"Summarize: \\n\", covid.describe()) #default numbers"
      ],
      "execution_count": null,
      "outputs": [
        {
          "output_type": "stream",
          "text": [
            "Max:  792217\n",
            "Min:  1\n",
            "Sum:  545735015\n",
            "Count:  11179\n",
            "Median:  12004.0\n",
            "\n",
            "Summarize: \n",
            "                fips          cases        deaths\n",
            "count  11179.000000   11179.000000  11179.000000\n",
            "mean      31.838000   48817.874139   1862.135880\n",
            "std       18.601262   98223.523365   4316.225627\n",
            "min        1.000000       1.000000      0.000000\n",
            "25%       17.000000    1396.000000     29.000000\n",
            "50%       31.000000   12004.000000    359.000000\n",
            "75%       46.000000   52612.500000   1675.000000\n",
            "max       78.000000  792217.000000  32691.000000\n"
          ],
          "name": "stdout"
        }
      ]
    },
    {
      "cell_type": "markdown",
      "metadata": {
        "id": "lcg7WuRobyt_"
      },
      "source": [
        "# Other topics:\n",
        "\n",
        "*  Sorting: https://www.tutorialspoint.com/python_pandas/python_pandas_sorting.htm\n",
        "*  Joins: https://www.tutorialspoint.com/python_pandas/python_pandas_merging_joining.htm"
      ]
    }
  ]
}