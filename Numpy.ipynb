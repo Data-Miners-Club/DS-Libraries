{
  "nbformat": 4,
  "nbformat_minor": 0,
  "metadata": {
    "colab": {
      "name": "Numpy.ipynb",
      "provenance": [],
      "collapsed_sections": [],
      "include_colab_link": true
    },
    "kernelspec": {
      "name": "python3",
      "display_name": "Python 3"
    }
  },
  "cells": [
    {
      "cell_type": "markdown",
      "metadata": {
        "id": "view-in-github",
        "colab_type": "text"
      },
      "source": [
        "<a href=\"https://colab.research.google.com/github/Data-Miners-Club/DS-Libraries/blob/master/Numpy.ipynb\" target=\"_parent\"><img src=\"https://colab.research.google.com/assets/colab-badge.svg\" alt=\"Open In Colab\"/></a>"
      ]
    },
    {
      "cell_type": "markdown",
      "metadata": {
        "id": "dZ-0jdD2uAYQ"
      },
      "source": [
        "# Numpy\n",
        "Reference: https://www.tutorialspoint.com/numpy/index.htm\n",
        "\n",
        "NumPy (Numerical Python) is a library consisting of multidimensional array objects and a collection of functions for processing those arrays.\n",
        "\n",
        "NumPy is often used along with packages like SciPy (Scientific Python) and Mat−plotlib (plotting library)"
      ]
    },
    {
      "cell_type": "code",
      "metadata": {
        "id": "u4JbExVGv7s8"
      },
      "source": [
        "import numpy as np"
      ],
      "execution_count": null,
      "outputs": []
    },
    {
      "cell_type": "markdown",
      "metadata": {
        "id": "V5uXIqdCu3TG"
      },
      "source": [
        "## Ndarray Object\n",
        "\n",
        "N-dimensional array is the collection of items of the same type.\n",
        "\n",
        "\n",
        "```\n",
        "numpy.array(object, dtype = None, copy = True, order = None, subok = False, ndmin = 0)\n",
        "\n",
        "```\n",
        "\n",
        "**Note that most operations on the numpy array can be done in either axis (horizontally via rows or vertically via columns)**\n",
        "\n"
      ]
    },
    {
      "cell_type": "code",
      "metadata": {
        "id": "k0iCOITR2Dsu",
        "outputId": "d39fc1dc-5d67-4a9c-a72f-6a9025d6afc8",
        "colab": {
          "base_uri": "https://localhost:8080/",
          "height": 51
        }
      },
      "source": [
        "a = np.array([1, 2, 3,4,5], ndmin = 2) \n",
        "print(a)\n",
        "print(a.shape) #a.shape returns the dimension of the array"
      ],
      "execution_count": null,
      "outputs": [
        {
          "output_type": "stream",
          "text": [
            "[[1 2 3 4 5]]\n",
            "(1, 5)\n"
          ],
          "name": "stdout"
        }
      ]
    },
    {
      "cell_type": "code",
      "metadata": {
        "id": "FdUizKwOv6Xe",
        "outputId": "fbb5e949-3b88-46e2-8a91-cb728c5fb281",
        "colab": {
          "base_uri": "https://localhost:8080/",
          "height": 51
        }
      },
      "source": [
        "a = np.array([1, 2, 3,4,5]) \n",
        "print(a)\n",
        "print(a.shape)"
      ],
      "execution_count": null,
      "outputs": [
        {
          "output_type": "stream",
          "text": [
            "[1 2 3 4 5]\n",
            "(5,)\n"
          ],
          "name": "stdout"
        }
      ]
    },
    {
      "cell_type": "code",
      "metadata": {
        "id": "Pe36ogYvw36H",
        "outputId": "d8757c8a-bd38-4ded-9439-acea41a3b8eb",
        "colab": {
          "base_uri": "https://localhost:8080/",
          "height": 102
        }
      },
      "source": [
        "# this resizes the ndarray \n",
        "a = np.array([[1,2,3],[4,5,6]]) \n",
        "print(\"Original shape: \", a.shape)\n",
        "a.shape = (3,2)  # or a = a.reshape(3,2)\n",
        "print(a)\n",
        "print(\"New shape: \", a.shape)"
      ],
      "execution_count": null,
      "outputs": [
        {
          "output_type": "stream",
          "text": [
            "Original shape:  (2, 3)\n",
            "[[1 2]\n",
            " [3 4]\n",
            " [5 6]]\n",
            "New shape:  (3, 2)\n"
          ],
          "name": "stdout"
        }
      ]
    },
    {
      "cell_type": "code",
      "metadata": {
        "id": "RYBfYOYVx1YT",
        "outputId": "494a2a7a-7706-4b23-ffb5-db9adf98b6ab",
        "colab": {
          "base_uri": "https://localhost:8080/",
          "height": 68
        }
      },
      "source": [
        "#Numpy Array from existing data\n",
        "x = [1,2,3]\n",
        "a = np.asarray(x, dtype = float) \n",
        "a = a.reshape(3,1)\n",
        "a"
      ],
      "execution_count": null,
      "outputs": [
        {
          "output_type": "execute_result",
          "data": {
            "text/plain": [
              "array([[1.],\n",
              "       [2.],\n",
              "       [3.]])"
            ]
          },
          "metadata": {
            "tags": []
          },
          "execution_count": 40
        }
      ]
    },
    {
      "cell_type": "code",
      "metadata": {
        "id": "LbJQT3dvEi9t",
        "outputId": "0994e27d-c7fe-4fe3-dd4a-20c91ce41d50",
        "colab": {
          "base_uri": "https://localhost:8080/",
          "height": 34
        }
      },
      "source": [
        "a.T #Transpose"
      ],
      "execution_count": null,
      "outputs": [
        {
          "output_type": "execute_result",
          "data": {
            "text/plain": [
              "array([[1., 2., 3.]])"
            ]
          },
          "metadata": {
            "tags": []
          },
          "execution_count": 39
        }
      ]
    },
    {
      "cell_type": "markdown",
      "metadata": {
        "id": "U4zDcqOYyKPK"
      },
      "source": [
        "## Numerical Ranges\n",
        "\n",
        "**numpy.arange** returns an ndarray object containing evenly spaced values within a given range. \n",
        "\n",
        "```\n",
        "numpy.arange(start, stop, step, dtype)\n",
        "```\n",
        "\n"
      ]
    },
    {
      "cell_type": "code",
      "metadata": {
        "id": "tYSJVeqMybgU",
        "outputId": "1c30a96b-dbbf-4d1c-ae18-a80abde6d0a4",
        "colab": {
          "base_uri": "https://localhost:8080/",
          "height": 34
        }
      },
      "source": [
        "np.arange(5) "
      ],
      "execution_count": null,
      "outputs": [
        {
          "output_type": "execute_result",
          "data": {
            "text/plain": [
              "array([0, 1, 2, 3, 4])"
            ]
          },
          "metadata": {
            "tags": []
          },
          "execution_count": 11
        }
      ]
    },
    {
      "cell_type": "code",
      "metadata": {
        "id": "c1h5J8zLyffL",
        "outputId": "29affc6f-3e31-4fa9-f937-a6b52155ec59",
        "colab": {
          "base_uri": "https://localhost:8080/",
          "height": 34
        }
      },
      "source": [
        "np.arange(10,20,2)"
      ],
      "execution_count": null,
      "outputs": [
        {
          "output_type": "execute_result",
          "data": {
            "text/plain": [
              "array([10, 12, 14, 16, 18])"
            ]
          },
          "metadata": {
            "tags": []
          },
          "execution_count": 12
        }
      ]
    },
    {
      "cell_type": "markdown",
      "metadata": {
        "id": "GU4CaIpnyk6k"
      },
      "source": [
        "**numpy.linspace()** is similar to numpy.arange but, instead of step size, the number of evenly spaced values between the interval is specified. \n",
        "\n",
        "```\n",
        "numpy.linspace(start, stop, num, endpoint, retstep, dtype)\n",
        "```\n",
        "\n"
      ]
    },
    {
      "cell_type": "code",
      "metadata": {
        "id": "PLg3JDkczExe",
        "outputId": "eb63c900-1a60-4254-c22a-f66a19eebd69",
        "colab": {
          "base_uri": "https://localhost:8080/",
          "height": 34
        }
      },
      "source": [
        "np.linspace(10,20,5) "
      ],
      "execution_count": null,
      "outputs": [
        {
          "output_type": "execute_result",
          "data": {
            "text/plain": [
              "array([10. , 12.5, 15. , 17.5, 20. ])"
            ]
          },
          "metadata": {
            "tags": []
          },
          "execution_count": 13
        }
      ]
    },
    {
      "cell_type": "markdown",
      "metadata": {
        "id": "HuwBELGEzfjm"
      },
      "source": [
        "## Indexing and Slicing\n",
        "\n",
        "**Basic Indexing** is constructed by giving start, stop, step.\n",
        "\n",
        "```\n",
        "a = numpy.arange(10)\n",
        "s = slice(2,7,2) #slice(start, stop, step)\n",
        "print(a[s]) #[2,4,6]\n",
        "```\n",
        "\n"
      ]
    },
    {
      "cell_type": "markdown",
      "metadata": {
        "id": "1KGy-CQn18tk"
      },
      "source": [
        "### One-Dimensional Array"
      ]
    },
    {
      "cell_type": "code",
      "metadata": {
        "id": "8OcFex381o6U",
        "outputId": "86a6b0ce-bfeb-41e6-9eb5-2e3feeb18299",
        "colab": {
          "base_uri": "https://localhost:8080/",
          "height": 34
        }
      },
      "source": [
        "a = np.arange(10)\n",
        "a"
      ],
      "execution_count": null,
      "outputs": [
        {
          "output_type": "execute_result",
          "data": {
            "text/plain": [
              "array([0, 1, 2, 3, 4, 5, 6, 7, 8, 9])"
            ]
          },
          "metadata": {
            "tags": []
          },
          "execution_count": 18
        }
      ]
    },
    {
      "cell_type": "code",
      "metadata": {
        "id": "rK451gI11du4",
        "outputId": "37271669-2aaf-4711-d134-6a764655313e",
        "colab": {
          "base_uri": "https://localhost:8080/",
          "height": 34
        }
      },
      "source": [
        "s = slice(2,7,2) \n",
        "a[s]"
      ],
      "execution_count": null,
      "outputs": [
        {
          "output_type": "execute_result",
          "data": {
            "text/plain": [
              "array([2, 4, 6])"
            ]
          },
          "metadata": {
            "tags": []
          },
          "execution_count": 19
        }
      ]
    },
    {
      "cell_type": "code",
      "metadata": {
        "id": "xRGfb1GV1j6w",
        "outputId": "e18cd7f6-ef36-44b7-b442-d35363cd8fa3",
        "colab": {
          "base_uri": "https://localhost:8080/",
          "height": 34
        }
      },
      "source": [
        "a[2:7:2]"
      ],
      "execution_count": null,
      "outputs": [
        {
          "output_type": "execute_result",
          "data": {
            "text/plain": [
              "array([2, 4, 6])"
            ]
          },
          "metadata": {
            "tags": []
          },
          "execution_count": 16
        }
      ]
    },
    {
      "cell_type": "code",
      "metadata": {
        "id": "kwarpguN1l6I",
        "outputId": "21a76125-7787-454a-d7b8-205d76e7954c",
        "colab": {
          "base_uri": "https://localhost:8080/",
          "height": 34
        }
      },
      "source": [
        "a[2]"
      ],
      "execution_count": null,
      "outputs": [
        {
          "output_type": "execute_result",
          "data": {
            "text/plain": [
              "2"
            ]
          },
          "metadata": {
            "tags": []
          },
          "execution_count": 17
        }
      ]
    },
    {
      "cell_type": "code",
      "metadata": {
        "id": "_6SR4rkm1sfo",
        "outputId": "ad35439a-d05d-4be9-8ef5-c4838faf3d69",
        "colab": {
          "base_uri": "https://localhost:8080/",
          "height": 34
        }
      },
      "source": [
        "a[2:4]"
      ],
      "execution_count": null,
      "outputs": [
        {
          "output_type": "execute_result",
          "data": {
            "text/plain": [
              "array([2, 3])"
            ]
          },
          "metadata": {
            "tags": []
          },
          "execution_count": 22
        }
      ]
    },
    {
      "cell_type": "code",
      "metadata": {
        "id": "thxsOVmJ1xac",
        "outputId": "586a1f4f-a2f4-4aba-c727-0d006ba86af6",
        "colab": {
          "base_uri": "https://localhost:8080/",
          "height": 34
        }
      },
      "source": [
        "a[2:]"
      ],
      "execution_count": null,
      "outputs": [
        {
          "output_type": "execute_result",
          "data": {
            "text/plain": [
              "array([2, 3, 4, 5, 6, 7, 8, 9])"
            ]
          },
          "metadata": {
            "tags": []
          },
          "execution_count": 23
        }
      ]
    },
    {
      "cell_type": "markdown",
      "metadata": {
        "id": "ArKC_vrL2CsR"
      },
      "source": [
        "### Two-dimensional Array\n"
      ]
    },
    {
      "cell_type": "code",
      "metadata": {
        "id": "3Xof6bQL2GBP",
        "outputId": "3349716f-c86c-48d4-c1b5-a7991b533cdd",
        "colab": {
          "base_uri": "https://localhost:8080/",
          "height": 68
        }
      },
      "source": [
        "a = np.array([[1,2,3],[3,4,5],[4,5,6]]) \n",
        "a"
      ],
      "execution_count": null,
      "outputs": [
        {
          "output_type": "execute_result",
          "data": {
            "text/plain": [
              "array([[1, 2, 3],\n",
              "       [3, 4, 5],\n",
              "       [4, 5, 6]])"
            ]
          },
          "metadata": {
            "tags": []
          },
          "execution_count": 24
        }
      ]
    },
    {
      "cell_type": "code",
      "metadata": {
        "id": "VbHaTLMM2KUa",
        "outputId": "8171094b-edcd-402f-fb77-419f29d97241",
        "colab": {
          "base_uri": "https://localhost:8080/",
          "height": 34
        }
      },
      "source": [
        "a[...,1] "
      ],
      "execution_count": null,
      "outputs": [
        {
          "output_type": "execute_result",
          "data": {
            "text/plain": [
              "array([2, 4, 5])"
            ]
          },
          "metadata": {
            "tags": []
          },
          "execution_count": 25
        }
      ]
    },
    {
      "cell_type": "code",
      "metadata": {
        "id": "wtxxr6tD2NT7",
        "outputId": "e22ef2c8-2932-4e8e-dde5-0064b5d59e54",
        "colab": {
          "base_uri": "https://localhost:8080/",
          "height": 34
        }
      },
      "source": [
        "a[1,...] "
      ],
      "execution_count": null,
      "outputs": [
        {
          "output_type": "execute_result",
          "data": {
            "text/plain": [
              "array([3, 4, 5])"
            ]
          },
          "metadata": {
            "tags": []
          },
          "execution_count": 26
        }
      ]
    },
    {
      "cell_type": "code",
      "metadata": {
        "id": "aZEfQKzO2UCa",
        "outputId": "b2b5cc87-55cc-4eaa-9e5e-b4368d787436",
        "colab": {
          "base_uri": "https://localhost:8080/",
          "height": 68
        }
      },
      "source": [
        "a[...,1:]"
      ],
      "execution_count": null,
      "outputs": [
        {
          "output_type": "execute_result",
          "data": {
            "text/plain": [
              "array([[2, 3],\n",
              "       [4, 5],\n",
              "       [5, 6]])"
            ]
          },
          "metadata": {
            "tags": []
          },
          "execution_count": 27
        }
      ]
    },
    {
      "cell_type": "markdown",
      "metadata": {
        "id": "bFjQJfnDA4_Y"
      },
      "source": [
        "### Advanced Interger Indexing\n",
        "\n",
        "Selecting any arbitrary item in an array based on its Ndimensional index\n"
      ]
    },
    {
      "cell_type": "code",
      "metadata": {
        "id": "TNKcJbfOBmtq",
        "outputId": "64bf6fda-87d0-494b-bf6b-08f4feb2129f",
        "colab": {
          "base_uri": "https://localhost:8080/",
          "height": 34
        }
      },
      "source": [
        "x = np.array([[1, 2], [3, 4], [5, 6]]) \n",
        "x[[0,1,2], [0,1,0]] #get elements at index (0,0), (1,1), (2,0)"
      ],
      "execution_count": null,
      "outputs": [
        {
          "output_type": "execute_result",
          "data": {
            "text/plain": [
              "array([1, 4, 5])"
            ]
          },
          "metadata": {
            "tags": []
          },
          "execution_count": 28
        }
      ]
    },
    {
      "cell_type": "markdown",
      "metadata": {
        "id": "i7XjFTbVCpuq"
      },
      "source": [
        "### Advanced Boolean Indexing\n",
        "\n",
        "Resultant object is meant to be the result of Boolean operations, such as comparison operators."
      ]
    },
    {
      "cell_type": "code",
      "metadata": {
        "id": "mspO1TNVC4gm",
        "outputId": "1439fdeb-011b-4588-9021-684cbbd2ca9c",
        "colab": {
          "base_uri": "https://localhost:8080/",
          "height": 34
        }
      },
      "source": [
        "x = np.array([[ 0,  1,  2],[ 3,  4,  5],[ 6,  7,  8],[ 9, 10, 11]]) \n",
        "x[x > 5]"
      ],
      "execution_count": null,
      "outputs": [
        {
          "output_type": "execute_result",
          "data": {
            "text/plain": [
              "array([ 6,  7,  8,  9, 10, 11])"
            ]
          },
          "metadata": {
            "tags": []
          },
          "execution_count": 29
        }
      ]
    },
    {
      "cell_type": "code",
      "metadata": {
        "id": "2QhCHZ2TDBtD",
        "outputId": "2c58b110-15b2-49ba-a1bb-a8a5d3d7dc37",
        "colab": {
          "base_uri": "https://localhost:8080/",
          "height": 34
        }
      },
      "source": [
        "a = np.array([np.nan, 1,2,np.nan,3,4,5]) \n",
        "a[~np.isnan(a)]"
      ],
      "execution_count": null,
      "outputs": [
        {
          "output_type": "execute_result",
          "data": {
            "text/plain": [
              "array([1., 2., 3., 4., 5.])"
            ]
          },
          "metadata": {
            "tags": []
          },
          "execution_count": 30
        }
      ]
    },
    {
      "cell_type": "markdown",
      "metadata": {
        "id": "zonTMvOwDTPS"
      },
      "source": [
        "## Broadcasting\n",
        "\n",
        "Arithmetic operations on arrays are usually done on corresponding elements.\n",
        "\n",
        "![image.png](data:image/png;base64,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)"
      ]
    },
    {
      "cell_type": "code",
      "metadata": {
        "id": "33s7PEs_DlST",
        "outputId": "619e015e-e98e-4d33-a053-f54eda488235",
        "colab": {
          "base_uri": "https://localhost:8080/",
          "height": 34
        }
      },
      "source": [
        "a = np.array([1,2,3,4]) \n",
        "b = np.array([10,20,30,40]) \n",
        "a * b "
      ],
      "execution_count": null,
      "outputs": [
        {
          "output_type": "execute_result",
          "data": {
            "text/plain": [
              "array([ 10,  40,  90, 160])"
            ]
          },
          "metadata": {
            "tags": []
          },
          "execution_count": 31
        }
      ]
    },
    {
      "cell_type": "code",
      "metadata": {
        "id": "WvYSdMYsDokd",
        "outputId": "561df68e-3378-43e7-e10b-72b057f9e735",
        "colab": {
          "base_uri": "https://localhost:8080/",
          "height": 85
        }
      },
      "source": [
        "a = np.array([[0.0,0.0,0.0],[10.0,10.0,10.0],[20.0,20.0,20.0],[30.0,30.0,30.0]]) \n",
        "b = np.array([1.0,2.0,3.0])  \n",
        "a+b"
      ],
      "execution_count": null,
      "outputs": [
        {
          "output_type": "execute_result",
          "data": {
            "text/plain": [
              "array([[ 1.,  2.,  3.],\n",
              "       [11., 12., 13.],\n",
              "       [21., 22., 23.],\n",
              "       [31., 32., 33.]])"
            ]
          },
          "metadata": {
            "tags": []
          },
          "execution_count": 32
        }
      ]
    },
    {
      "cell_type": "markdown",
      "metadata": {
        "id": "XptYpqmvFsrA"
      },
      "source": [
        "## Useful operations\n",
        "\n"
      ]
    },
    {
      "cell_type": "code",
      "metadata": {
        "id": "VDijvpm1F1mi",
        "outputId": "55544bbd-723a-4f9f-89df-fe97b970bec9",
        "colab": {
          "base_uri": "https://localhost:8080/",
          "height": 68
        }
      },
      "source": [
        "# Copy of an array collapsed into one dimension\n",
        "# Flattened array are non-contiguous\n",
        "a = np.arange(8).reshape(2,4) \n",
        "print(a)\n",
        "a.flatten()"
      ],
      "execution_count": null,
      "outputs": [
        {
          "output_type": "stream",
          "text": [
            "[[0 1 2 3]\n",
            " [4 5 6 7]]\n"
          ],
          "name": "stdout"
        },
        {
          "output_type": "execute_result",
          "data": {
            "text/plain": [
              "array([0, 1, 2, 3, 4, 5, 6, 7])"
            ]
          },
          "metadata": {
            "tags": []
          },
          "execution_count": 42
        }
      ]
    },
    {
      "cell_type": "code",
      "metadata": {
        "id": "To2-_3RjGCVG",
        "outputId": "a1e88fe2-5bad-42f8-ff8a-6e1cfc015927",
        "colab": {
          "base_uri": "https://localhost:8080/",
          "height": 68
        }
      },
      "source": [
        "# Ravelled array are contiguous (MORE HELPFUL!!!)\n",
        "a = np.arange(8).reshape(2,4) \n",
        "print(a)\n",
        "a.ravel()"
      ],
      "execution_count": null,
      "outputs": [
        {
          "output_type": "stream",
          "text": [
            "[[0 1 2 3]\n",
            " [4 5 6 7]]\n"
          ],
          "name": "stdout"
        },
        {
          "output_type": "execute_result",
          "data": {
            "text/plain": [
              "array([0, 1, 2, 3, 4, 5, 6, 7])"
            ]
          },
          "metadata": {
            "tags": []
          },
          "execution_count": 43
        }
      ]
    },
    {
      "cell_type": "code",
      "metadata": {
        "id": "U53DtTskHYGE",
        "outputId": "c1b34258-dcf7-4711-a87c-21dd240033c3",
        "colab": {
          "base_uri": "https://localhost:8080/",
          "height": 85
        }
      },
      "source": [
        "# Mathematical operations\n",
        "a = np.array([0,30.23,45.932,60,90.12]) \n",
        "\n",
        "print(\"Sin: \", np.sin(a))\n",
        "print(\"Arc sin: \", np.arcsin(np.sin(a)))\n",
        "print(\"Floor: \", np.floor(a))\n",
        "print(\"Ceil: \", np.ceil(a))"
      ],
      "execution_count": null,
      "outputs": [
        {
          "output_type": "stream",
          "text": [
            "Sin:  [ 0.         -0.92684733  0.92906967 -0.30481062  0.83392773]\n",
            "Arc sin:  [ 0.         -1.18592654  1.1918898  -0.30973958  0.98618695]\n",
            "Floor:  [ 0. 30. 45. 60. 90.]\n",
            "Ceil:  [ 0. 31. 46. 60. 91.]\n"
          ],
          "name": "stdout"
        }
      ]
    },
    {
      "cell_type": "code",
      "metadata": {
        "id": "w7ROgLjAIUZH",
        "outputId": "74a8c145-b92a-4c02-a1d1-0d2f49e7ce2a",
        "colab": {
          "base_uri": "https://localhost:8080/",
          "height": 544
        }
      },
      "source": [
        "# Arithmetic operation\n",
        "a = np.arange(9, dtype = np.float_).reshape(3,3) \n",
        "b = np.array([10,10,10]) \n",
        "\n",
        "print(\"a: \", a)\n",
        "print(\"\\n\")\n",
        "print(\"b: \", b)\n",
        "print(\"\\n\")\n",
        "print(\"Add: \", np.add(a, b))\n",
        "print(\"\\n\")\n",
        "print(\"Subtract: \", np.subtract(a, b))\n",
        "print(\"\\n\")\n",
        "print(\"Multiply: \", np.multiply(a, b))\n",
        "print(\"\\n\")\n",
        "print(\"Division: \", np.divide(a, b))\n",
        "print(\"\\n\")\n",
        "print(\"Power: \", np.power(a, 2))"
      ],
      "execution_count": null,
      "outputs": [
        {
          "output_type": "stream",
          "text": [
            "a:  [[0. 1. 2.]\n",
            " [3. 4. 5.]\n",
            " [6. 7. 8.]]\n",
            "\n",
            "\n",
            "b:  [10 10 10]\n",
            "\n",
            "\n",
            "Add:  [[10. 11. 12.]\n",
            " [13. 14. 15.]\n",
            " [16. 17. 18.]]\n",
            "\n",
            "\n",
            "Subtract:  [[-10.  -9.  -8.]\n",
            " [ -7.  -6.  -5.]\n",
            " [ -4.  -3.  -2.]]\n",
            "\n",
            "\n",
            "Multiply:  [[ 0. 10. 20.]\n",
            " [30. 40. 50.]\n",
            " [60. 70. 80.]]\n",
            "\n",
            "\n",
            "Division:  [[0.  0.1 0.2]\n",
            " [0.3 0.4 0.5]\n",
            " [0.6 0.7 0.8]]\n",
            "\n",
            "\n",
            "Power:  [[ 0.  1.  4.]\n",
            " [ 9. 16. 25.]\n",
            " [36. 49. 64.]]\n"
          ],
          "name": "stdout"
        }
      ]
    },
    {
      "cell_type": "markdown",
      "metadata": {
        "id": "4MHUWrhAJob2"
      },
      "source": [
        "**Linear Algebra functions**\n",
        "https://www.tutorialspoint.com/numpy/numpy_solve.htm"
      ]
    }
  ]
}